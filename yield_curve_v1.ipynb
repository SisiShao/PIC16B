{
 "cells": [
  {
   "cell_type": "markdown",
   "id": "f918e8ce-78e9-477e-ad32-3394e1f4dc6a",
   "metadata": {},
   "source": [
    "# SQL Database Pipeline #"
   ]
  },
  {
   "cell_type": "code",
   "execution_count": 15,
   "id": "966e19dc-2567-449c-9635-b4e78867acb2",
   "metadata": {
    "tags": []
   },
   "outputs": [
    {
     "name": "stdout",
     "output_type": "stream",
     "text": [
      "Saved T1M data to treasury_data/T1M_Treasury.csv\n",
      "Saved T3M data to treasury_data/T3M_Treasury.csv\n",
      "Saved T6M data to treasury_data/T6M_Treasury.csv\n",
      "Saved T1Y data to treasury_data/T1Y_Treasury.csv\n",
      "Saved T2Y data to treasury_data/T2Y_Treasury.csv\n",
      "Saved T5Y data to treasury_data/T5Y_Treasury.csv\n",
      "Saved T10Y data to treasury_data/T10Y_Treasury.csv\n",
      "Saved T30Y data to treasury_data/T30Y_Treasury.csv\n"
     ]
    }
   ],
   "source": [
    "import os\n",
    "import pandas as pd\n",
    "import sqlite3\n",
    "from fredapi import Fred\n",
    "\n",
    "FRED_API_KEY = \"f4ebdf5736473073008b9f5a7ca9bd1a\"  \n",
    "fred = Fred(api_key=FRED_API_KEY)\n",
    "\n",
    "# Define Treasury Yield Series\n",
    "FRED_SERIES = {\n",
    "    \"T1M\": \"DGS1MO\",\n",
    "    \"T3M\": \"DGS3MO\",\n",
    "    \"T6M\": \"DGS6MO\",\n",
    "    \"T1Y\": \"DGS1\",\n",
    "    \"T2Y\": \"DGS2\",\n",
    "    \"T5Y\": \"DGS5\",\n",
    "    \"T10Y\": \"DGS10\",\n",
    "    \"T30Y\": \"DGS30\",\n",
    "}\n",
    "\n",
    "# Creates a Folder for CSVs \n",
    "csv_folder = \"treasury_data\"\n",
    "os.makedirs(csv_folder, exist_ok=True)\n",
    "\n",
    "# Fetchs Data and Saves Each Maturity as CSV\n",
    "for maturity, series_id in FRED_SERIES.items():\n",
    "    df = fred.get_series(series_id).reset_index()\n",
    "    df.columns = [\"date\", \"yield\"]  # Standardize column names\n",
    "    df[\"date\"] = df[\"date\"].astype(str)  # Ensure date is string for SQLite\n",
    "    file_path = os.path.join(csv_folder, f\"{maturity}_Treasury.csv\")\n",
    "    df.to_csv(file_path, index=False)\n",
    "    print(f\"Saved {maturity} data to {file_path}\")"
   ]
  },
  {
   "cell_type": "code",
   "execution_count": 17,
   "id": "43758832-a54c-4feb-9be6-b979619eef78",
   "metadata": {
    "tags": []
   },
   "outputs": [
    {
     "name": "stdout",
     "output_type": "stream",
     "text": [
      "Database update complete.\n"
     ]
    }
   ],
   "source": [
    "import glob\n",
    "\n",
    "# Connect to SQLite Database \n",
    "db_path = \"yields.db\"\n",
    "conn = sqlite3.connect(db_path)\n",
    "cursor = conn.cursor()\n",
    "\n",
    "cursor.execute(\"DROP TABLE IF EXISTS BondYields\")\n",
    "\n",
    "# Create `BondYields` Table with All Maturities\n",
    "columns = [\"date TEXT PRIMARY KEY\"] + [f\"{maturity} REAL\" for maturity in FRED_SERIES.keys()]\n",
    "cursor.execute(f\"\"\"\n",
    "    CREATE TABLE BondYields (\n",
    "        {', '.join(columns)}\n",
    "    )\n",
    "\"\"\")\n",
    "conn.commit()\n",
    "\n",
    "# Imports CSVs into SQLite Database\n",
    "csv_files = glob.glob(os.path.join(csv_folder, \"*_Treasury.csv\"))\n",
    "\n",
    "for file in csv_files:\n",
    "    maturity = os.path.basename(file).split(\"_\")[0]\n",
    "    df = pd.read_csv(file)\n",
    "    df = df.rename(columns={\"yield\": maturity})  # Rename yield column\n",
    "    df[\"date\"] = pd.to_datetime(df[\"date\"]).dt.strftime(\"%Y-%m-%d\")\n",
    "\n",
    "    # Inserts new rows into BondYields\n",
    "    for _, row in df.iterrows():\n",
    "        cursor.execute(f\"\"\"\n",
    "            INSERT OR IGNORE INTO BondYields (date) VALUES (?)\n",
    "        \"\"\", (row[\"date\"],))\n",
    "\n",
    "        cursor.execute(f\"\"\"\n",
    "            UPDATE BondYields\n",
    "            SET {maturity} = ?\n",
    "            WHERE date = ?\n",
    "        \"\"\", (row[maturity], row[\"date\"]))\n",
    "\n",
    "conn.commit()\n",
    "\n",
    "# Close the Database Connection\n",
    "conn.close()\n",
    "print(\"Database update complete.\")"
   ]
  },
  {
   "cell_type": "code",
   "execution_count": 18,
   "id": "ccdf2767-751e-4cef-bac3-9ab8eb76513f",
   "metadata": {
    "tags": []
   },
   "outputs": [
    {
     "data": {
      "text/html": [
       "<div>\n",
       "<style scoped>\n",
       "    .dataframe tbody tr th:only-of-type {\n",
       "        vertical-align: middle;\n",
       "    }\n",
       "\n",
       "    .dataframe tbody tr th {\n",
       "        vertical-align: top;\n",
       "    }\n",
       "\n",
       "    .dataframe thead th {\n",
       "        text-align: right;\n",
       "    }\n",
       "</style>\n",
       "<table border=\"1\" class=\"dataframe\">\n",
       "  <thead>\n",
       "    <tr style=\"text-align: right;\">\n",
       "      <th></th>\n",
       "      <th>date</th>\n",
       "      <th>maturity</th>\n",
       "      <th>yield</th>\n",
       "    </tr>\n",
       "  </thead>\n",
       "  <tbody>\n",
       "    <tr>\n",
       "      <th>6380</th>\n",
       "      <td>2001-07-31</td>\n",
       "      <td>T1M</td>\n",
       "      <td>3.67</td>\n",
       "    </tr>\n",
       "    <tr>\n",
       "      <th>6381</th>\n",
       "      <td>2001-08-01</td>\n",
       "      <td>T1M</td>\n",
       "      <td>3.65</td>\n",
       "    </tr>\n",
       "    <tr>\n",
       "      <th>6382</th>\n",
       "      <td>2001-08-02</td>\n",
       "      <td>T1M</td>\n",
       "      <td>3.65</td>\n",
       "    </tr>\n",
       "    <tr>\n",
       "      <th>6383</th>\n",
       "      <td>2001-08-03</td>\n",
       "      <td>T1M</td>\n",
       "      <td>3.63</td>\n",
       "    </tr>\n",
       "    <tr>\n",
       "      <th>6384</th>\n",
       "      <td>2001-08-06</td>\n",
       "      <td>T1M</td>\n",
       "      <td>3.62</td>\n",
       "    </tr>\n",
       "    <tr>\n",
       "      <th>...</th>\n",
       "      <td>...</td>\n",
       "      <td>...</td>\n",
       "      <td>...</td>\n",
       "    </tr>\n",
       "    <tr>\n",
       "      <th>127762</th>\n",
       "      <td>2025-02-03</td>\n",
       "      <td>T30Y</td>\n",
       "      <td>4.77</td>\n",
       "    </tr>\n",
       "    <tr>\n",
       "      <th>127763</th>\n",
       "      <td>2025-02-04</td>\n",
       "      <td>T30Y</td>\n",
       "      <td>4.75</td>\n",
       "    </tr>\n",
       "    <tr>\n",
       "      <th>127764</th>\n",
       "      <td>2025-02-05</td>\n",
       "      <td>T30Y</td>\n",
       "      <td>4.64</td>\n",
       "    </tr>\n",
       "    <tr>\n",
       "      <th>127765</th>\n",
       "      <td>2025-02-06</td>\n",
       "      <td>T30Y</td>\n",
       "      <td>4.65</td>\n",
       "    </tr>\n",
       "    <tr>\n",
       "      <th>127766</th>\n",
       "      <td>2025-02-07</td>\n",
       "      <td>T30Y</td>\n",
       "      <td>4.69</td>\n",
       "    </tr>\n",
       "  </tbody>\n",
       "</table>\n",
       "<p>99044 rows × 3 columns</p>\n",
       "</div>"
      ],
      "text/plain": [
       "              date maturity  yield\n",
       "6380    2001-07-31      T1M   3.67\n",
       "6381    2001-08-01      T1M   3.65\n",
       "6382    2001-08-02      T1M   3.65\n",
       "6383    2001-08-03      T1M   3.63\n",
       "6384    2001-08-06      T1M   3.62\n",
       "...            ...      ...    ...\n",
       "127762  2025-02-03     T30Y   4.77\n",
       "127763  2025-02-04     T30Y   4.75\n",
       "127764  2025-02-05     T30Y   4.64\n",
       "127765  2025-02-06     T30Y   4.65\n",
       "127766  2025-02-07     T30Y   4.69\n",
       "\n",
       "[99044 rows x 3 columns]"
      ]
     },
     "metadata": {},
     "output_type": "display_data"
    }
   ],
   "source": [
    "# Load and Melt the Data\n",
    "conn = sqlite3.connect(db_path)\n",
    "\n",
    "# Load the BondYields table\n",
    "df = pd.read_sql(\"SELECT * FROM BondYields\", conn)\n",
    "\n",
    "# Melt into long format\n",
    "melted_df = df.melt(id_vars=[\"date\"], var_name=\"maturity\", value_name=\"yield\")\n",
    "\n",
    "melted_df = melted_df.dropna()\n",
    "\n",
    "# Display the DataFrame\n",
    "display(melted_df) \n",
    "\n",
    "conn.close()"
   ]
  },
  {
   "cell_type": "code",
   "execution_count": 19,
   "id": "b9aa6ca4-91c9-459e-84f9-a52243929850",
   "metadata": {
    "tags": []
   },
   "outputs": [
    {
     "data": {
      "text/html": [
       "<div>\n",
       "<style scoped>\n",
       "    .dataframe tbody tr th:only-of-type {\n",
       "        vertical-align: middle;\n",
       "    }\n",
       "\n",
       "    .dataframe tbody tr th {\n",
       "        vertical-align: top;\n",
       "    }\n",
       "\n",
       "    .dataframe thead th {\n",
       "        text-align: right;\n",
       "    }\n",
       "</style>\n",
       "<table border=\"1\" class=\"dataframe\">\n",
       "  <thead>\n",
       "    <tr style=\"text-align: right;\">\n",
       "      <th></th>\n",
       "      <th>date</th>\n",
       "      <th>maturity</th>\n",
       "      <th>yield</th>\n",
       "    </tr>\n",
       "  </thead>\n",
       "  <tbody>\n",
       "    <tr>\n",
       "      <th>0</th>\n",
       "      <td>2001-07-31</td>\n",
       "      <td>T1M</td>\n",
       "      <td>3.67</td>\n",
       "    </tr>\n",
       "    <tr>\n",
       "      <th>1</th>\n",
       "      <td>2001-08-01</td>\n",
       "      <td>T1M</td>\n",
       "      <td>3.65</td>\n",
       "    </tr>\n",
       "    <tr>\n",
       "      <th>2</th>\n",
       "      <td>2001-08-02</td>\n",
       "      <td>T1M</td>\n",
       "      <td>3.65</td>\n",
       "    </tr>\n",
       "    <tr>\n",
       "      <th>3</th>\n",
       "      <td>2001-08-03</td>\n",
       "      <td>T1M</td>\n",
       "      <td>3.63</td>\n",
       "    </tr>\n",
       "    <tr>\n",
       "      <th>4</th>\n",
       "      <td>2001-08-06</td>\n",
       "      <td>T1M</td>\n",
       "      <td>3.62</td>\n",
       "    </tr>\n",
       "    <tr>\n",
       "      <th>...</th>\n",
       "      <td>...</td>\n",
       "      <td>...</td>\n",
       "      <td>...</td>\n",
       "    </tr>\n",
       "    <tr>\n",
       "      <th>47059</th>\n",
       "      <td>2025-02-03</td>\n",
       "      <td>T30Y</td>\n",
       "      <td>4.77</td>\n",
       "    </tr>\n",
       "    <tr>\n",
       "      <th>47060</th>\n",
       "      <td>2025-02-04</td>\n",
       "      <td>T30Y</td>\n",
       "      <td>4.75</td>\n",
       "    </tr>\n",
       "    <tr>\n",
       "      <th>47061</th>\n",
       "      <td>2025-02-05</td>\n",
       "      <td>T30Y</td>\n",
       "      <td>4.64</td>\n",
       "    </tr>\n",
       "    <tr>\n",
       "      <th>47062</th>\n",
       "      <td>2025-02-06</td>\n",
       "      <td>T30Y</td>\n",
       "      <td>4.65</td>\n",
       "    </tr>\n",
       "    <tr>\n",
       "      <th>47063</th>\n",
       "      <td>2025-02-07</td>\n",
       "      <td>T30Y</td>\n",
       "      <td>4.69</td>\n",
       "    </tr>\n",
       "  </tbody>\n",
       "</table>\n",
       "<p>47064 rows × 3 columns</p>\n",
       "</div>"
      ],
      "text/plain": [
       "             date maturity  yield\n",
       "0      2001-07-31      T1M   3.67\n",
       "1      2001-08-01      T1M   3.65\n",
       "2      2001-08-02      T1M   3.65\n",
       "3      2001-08-03      T1M   3.63\n",
       "4      2001-08-06      T1M   3.62\n",
       "...           ...      ...    ...\n",
       "47059  2025-02-03     T30Y   4.77\n",
       "47060  2025-02-04     T30Y   4.75\n",
       "47061  2025-02-05     T30Y   4.64\n",
       "47062  2025-02-06     T30Y   4.65\n",
       "47063  2025-02-07     T30Y   4.69\n",
       "\n",
       "[47064 rows x 3 columns]"
      ]
     },
     "execution_count": 19,
     "metadata": {},
     "output_type": "execute_result"
    }
   ],
   "source": [
    "with sqlite3.connect(\"yields.db\") as conn:\n",
    "    df = pd.read_sql_query('SELECT * FROM BondYields;', conn)\n",
    "    df = df.dropna()\n",
    "    df = df.melt(id_vars=[\"date\"], var_name=\"maturity\", value_name=\"yield\")\n",
    "df"
   ]
  },
  {
   "cell_type": "code",
   "execution_count": null,
   "id": "f276f5d0-740f-4871-87bd-65ed8bfe7192",
   "metadata": {
    "tags": []
   },
   "outputs": [],
   "source": []
  },
  {
   "cell_type": "code",
   "execution_count": 20,
   "id": "21023dd9-1bb6-46b7-8d06-836653e1720b",
   "metadata": {
    "tags": []
   },
   "outputs": [],
   "source": [
    "import plotly.express as px"
   ]
  },
  {
   "cell_type": "code",
   "execution_count": 21,
   "id": "a418b193-1692-40b7-bee5-3898d9f5b175",
   "metadata": {
    "tags": []
   },
   "outputs": [],
   "source": [
    "def query_yield_curve(db_file, start_date, end_date):\n",
    "    conn = sqlite3.connect(db_file)\n",
    "    \n",
    "    # Writes the SQL query using f-strings\n",
    "    query = f\"\"\"\n",
    "        SELECT *\n",
    "        FROM BondYields\n",
    "        WHERE date BETWEEN '{start_date}' AND '{end_date}'\n",
    "    \"\"\"\n",
    "    \n",
    "    df=pd.read_sql_query(query, conn)\n",
    "    df = df.dropna()\n",
    "    df = df.melt(id_vars=[\"date\"], var_name=\"maturity\", value_name=\"yield\")\n",
    "    conn.close()\n",
    "    \n",
    "    return df"
   ]
  },
  {
   "cell_type": "code",
   "execution_count": 22,
   "id": "7a55a0fb-04ab-4a60-87ed-182feefc0080",
   "metadata": {
    "tags": []
   },
   "outputs": [],
   "source": [
    "def plot_yields(db_file, start_date, end_date):\n",
    "    \n",
    "    df = query_yield_curve(db_file, start_date, end_date)\n",
    "    \n",
    "    fig = px.line(df, x=\"maturity\", y=\"yield\", color=\"date\",\n",
    "                  title=f\"Treasury Yield Curve ({start_date} to {end_date})\",\n",
    "                  labels={\"maturity\": \"Maturity\", \"yield\": \"Yield (%)\"},\n",
    "                  markers=True)\n",
    "    \n",
    "    return fig"
   ]
  },
  {
   "cell_type": "code",
   "execution_count": 25,
   "id": "4d8f0a63-1cdd-4cbd-bead-8176c15e76e7",
   "metadata": {
    "tags": []
   },
   "outputs": [
    {
     "data": {
      "application/vnd.plotly.v1+json": {
       "config": {
        "plotlyServerURL": "https://plot.ly"
       },
       "data": [
        {
         "hovertemplate": "date=2025-01-10<br>Maturity=%{x}<br>Yield (%)=%{y}<extra></extra>",
         "legendgroup": "2025-01-10",
         "line": {
          "color": "#636efa",
          "dash": "solid"
         },
         "marker": {
          "symbol": "circle"
         },
         "mode": "markers+lines",
         "name": "2025-01-10",
         "orientation": "v",
         "showlegend": true,
         "type": "scatter",
         "x": [
          "T1M",
          "T3M",
          "T6M",
          "T1Y",
          "T2Y",
          "T5Y",
          "T10Y",
          "T30Y"
         ],
         "xaxis": "x",
         "y": [
          4.42,
          4.36,
          4.27,
          4.25,
          4.4,
          4.59,
          4.77,
          4.96
         ],
         "yaxis": "y"
        },
        {
         "hovertemplate": "date=2025-01-13<br>Maturity=%{x}<br>Yield (%)=%{y}<extra></extra>",
         "legendgroup": "2025-01-13",
         "line": {
          "color": "#EF553B",
          "dash": "solid"
         },
         "marker": {
          "symbol": "circle"
         },
         "mode": "markers+lines",
         "name": "2025-01-13",
         "orientation": "v",
         "showlegend": true,
         "type": "scatter",
         "x": [
          "T1M",
          "T3M",
          "T6M",
          "T1Y",
          "T2Y",
          "T5Y",
          "T10Y",
          "T30Y"
         ],
         "xaxis": "x",
         "y": [
          4.42,
          4.37,
          4.3,
          4.24,
          4.4,
          4.61,
          4.79,
          4.97
         ],
         "yaxis": "y"
        },
        {
         "hovertemplate": "date=2025-01-14<br>Maturity=%{x}<br>Yield (%)=%{y}<extra></extra>",
         "legendgroup": "2025-01-14",
         "line": {
          "color": "#00cc96",
          "dash": "solid"
         },
         "marker": {
          "symbol": "circle"
         },
         "mode": "markers+lines",
         "name": "2025-01-14",
         "orientation": "v",
         "showlegend": true,
         "type": "scatter",
         "x": [
          "T1M",
          "T3M",
          "T6M",
          "T1Y",
          "T2Y",
          "T5Y",
          "T10Y",
          "T30Y"
         ],
         "xaxis": "x",
         "y": [
          4.42,
          4.36,
          4.29,
          4.22,
          4.37,
          4.59,
          4.78,
          4.98
         ],
         "yaxis": "y"
        },
        {
         "hovertemplate": "date=2025-01-15<br>Maturity=%{x}<br>Yield (%)=%{y}<extra></extra>",
         "legendgroup": "2025-01-15",
         "line": {
          "color": "#ab63fa",
          "dash": "solid"
         },
         "marker": {
          "symbol": "circle"
         },
         "mode": "markers+lines",
         "name": "2025-01-15",
         "orientation": "v",
         "showlegend": true,
         "type": "scatter",
         "x": [
          "T1M",
          "T3M",
          "T6M",
          "T1Y",
          "T2Y",
          "T5Y",
          "T10Y",
          "T30Y"
         ],
         "xaxis": "x",
         "y": [
          4.4,
          4.35,
          4.26,
          4.19,
          4.27,
          4.45,
          4.66,
          4.88
         ],
         "yaxis": "y"
        },
        {
         "hovertemplate": "date=2025-01-16<br>Maturity=%{x}<br>Yield (%)=%{y}<extra></extra>",
         "legendgroup": "2025-01-16",
         "line": {
          "color": "#FFA15A",
          "dash": "solid"
         },
         "marker": {
          "symbol": "circle"
         },
         "mode": "markers+lines",
         "name": "2025-01-16",
         "orientation": "v",
         "showlegend": true,
         "type": "scatter",
         "x": [
          "T1M",
          "T3M",
          "T6M",
          "T1Y",
          "T2Y",
          "T5Y",
          "T10Y",
          "T30Y"
         ],
         "xaxis": "x",
         "y": [
          4.43,
          4.34,
          4.26,
          4.18,
          4.23,
          4.39,
          4.61,
          4.84
         ],
         "yaxis": "y"
        },
        {
         "hovertemplate": "date=2025-01-17<br>Maturity=%{x}<br>Yield (%)=%{y}<extra></extra>",
         "legendgroup": "2025-01-17",
         "line": {
          "color": "#19d3f3",
          "dash": "solid"
         },
         "marker": {
          "symbol": "circle"
         },
         "mode": "markers+lines",
         "name": "2025-01-17",
         "orientation": "v",
         "showlegend": true,
         "type": "scatter",
         "x": [
          "T1M",
          "T3M",
          "T6M",
          "T1Y",
          "T2Y",
          "T5Y",
          "T10Y",
          "T30Y"
         ],
         "xaxis": "x",
         "y": [
          4.43,
          4.34,
          4.28,
          4.21,
          4.27,
          4.42,
          4.61,
          4.84
         ],
         "yaxis": "y"
        },
        {
         "hovertemplate": "date=2025-01-21<br>Maturity=%{x}<br>Yield (%)=%{y}<extra></extra>",
         "legendgroup": "2025-01-21",
         "line": {
          "color": "#FF6692",
          "dash": "solid"
         },
         "marker": {
          "symbol": "circle"
         },
         "mode": "markers+lines",
         "name": "2025-01-21",
         "orientation": "v",
         "showlegend": true,
         "type": "scatter",
         "x": [
          "T1M",
          "T3M",
          "T6M",
          "T1Y",
          "T2Y",
          "T5Y",
          "T10Y",
          "T30Y"
         ],
         "xaxis": "x",
         "y": [
          4.42,
          4.36,
          4.28,
          4.21,
          4.29,
          4.4,
          4.57,
          4.8
         ],
         "yaxis": "y"
        },
        {
         "hovertemplate": "date=2025-01-22<br>Maturity=%{x}<br>Yield (%)=%{y}<extra></extra>",
         "legendgroup": "2025-01-22",
         "line": {
          "color": "#B6E880",
          "dash": "solid"
         },
         "marker": {
          "symbol": "circle"
         },
         "mode": "markers+lines",
         "name": "2025-01-22",
         "orientation": "v",
         "showlegend": true,
         "type": "scatter",
         "x": [
          "T1M",
          "T3M",
          "T6M",
          "T1Y",
          "T2Y",
          "T5Y",
          "T10Y",
          "T30Y"
         ],
         "xaxis": "x",
         "y": [
          4.42,
          4.36,
          4.28,
          4.2,
          4.29,
          4.43,
          4.6,
          4.82
         ],
         "yaxis": "y"
        },
        {
         "hovertemplate": "date=2025-01-23<br>Maturity=%{x}<br>Yield (%)=%{y}<extra></extra>",
         "legendgroup": "2025-01-23",
         "line": {
          "color": "#FF97FF",
          "dash": "solid"
         },
         "marker": {
          "symbol": "circle"
         },
         "mode": "markers+lines",
         "name": "2025-01-23",
         "orientation": "v",
         "showlegend": true,
         "type": "scatter",
         "x": [
          "T1M",
          "T3M",
          "T6M",
          "T1Y",
          "T2Y",
          "T5Y",
          "T10Y",
          "T30Y"
         ],
         "xaxis": "x",
         "y": [
          4.45,
          4.36,
          4.27,
          4.18,
          4.29,
          4.45,
          4.65,
          4.87
         ],
         "yaxis": "y"
        },
        {
         "hovertemplate": "date=2025-01-24<br>Maturity=%{x}<br>Yield (%)=%{y}<extra></extra>",
         "legendgroup": "2025-01-24",
         "line": {
          "color": "#FECB52",
          "dash": "solid"
         },
         "marker": {
          "symbol": "circle"
         },
         "mode": "markers+lines",
         "name": "2025-01-24",
         "orientation": "v",
         "showlegend": true,
         "type": "scatter",
         "x": [
          "T1M",
          "T3M",
          "T6M",
          "T1Y",
          "T2Y",
          "T5Y",
          "T10Y",
          "T30Y"
         ],
         "xaxis": "x",
         "y": [
          4.45,
          4.35,
          4.25,
          4.17,
          4.27,
          4.43,
          4.63,
          4.85
         ],
         "yaxis": "y"
        },
        {
         "hovertemplate": "date=2025-01-27<br>Maturity=%{x}<br>Yield (%)=%{y}<extra></extra>",
         "legendgroup": "2025-01-27",
         "line": {
          "color": "#636efa",
          "dash": "solid"
         },
         "marker": {
          "symbol": "circle"
         },
         "mode": "markers+lines",
         "name": "2025-01-27",
         "orientation": "v",
         "showlegend": true,
         "type": "scatter",
         "x": [
          "T1M",
          "T3M",
          "T6M",
          "T1Y",
          "T2Y",
          "T5Y",
          "T10Y",
          "T30Y"
         ],
         "xaxis": "x",
         "y": [
          4.44,
          4.32,
          4.25,
          4.13,
          4.17,
          4.32,
          4.53,
          4.76
         ],
         "yaxis": "y"
        },
        {
         "hovertemplate": "date=2025-01-28<br>Maturity=%{x}<br>Yield (%)=%{y}<extra></extra>",
         "legendgroup": "2025-01-28",
         "line": {
          "color": "#EF553B",
          "dash": "solid"
         },
         "marker": {
          "symbol": "circle"
         },
         "mode": "markers+lines",
         "name": "2025-01-28",
         "orientation": "v",
         "showlegend": true,
         "type": "scatter",
         "x": [
          "T1M",
          "T3M",
          "T6M",
          "T1Y",
          "T2Y",
          "T5Y",
          "T10Y",
          "T30Y"
         ],
         "xaxis": "x",
         "y": [
          4.44,
          4.31,
          4.26,
          4.14,
          4.19,
          4.33,
          4.55,
          4.78
         ],
         "yaxis": "y"
        },
        {
         "hovertemplate": "date=2025-01-29<br>Maturity=%{x}<br>Yield (%)=%{y}<extra></extra>",
         "legendgroup": "2025-01-29",
         "line": {
          "color": "#00cc96",
          "dash": "solid"
         },
         "marker": {
          "symbol": "circle"
         },
         "mode": "markers+lines",
         "name": "2025-01-29",
         "orientation": "v",
         "showlegend": true,
         "type": "scatter",
         "x": [
          "T1M",
          "T3M",
          "T6M",
          "T1Y",
          "T2Y",
          "T5Y",
          "T10Y",
          "T30Y"
         ],
         "xaxis": "x",
         "y": [
          4.43,
          4.31,
          4.27,
          4.17,
          4.21,
          4.35,
          4.55,
          4.79
         ],
         "yaxis": "y"
        },
        {
         "hovertemplate": "date=2025-01-30<br>Maturity=%{x}<br>Yield (%)=%{y}<extra></extra>",
         "legendgroup": "2025-01-30",
         "line": {
          "color": "#ab63fa",
          "dash": "solid"
         },
         "marker": {
          "symbol": "circle"
         },
         "mode": "markers+lines",
         "name": "2025-01-30",
         "orientation": "v",
         "showlegend": true,
         "type": "scatter",
         "x": [
          "T1M",
          "T3M",
          "T6M",
          "T1Y",
          "T2Y",
          "T5Y",
          "T10Y",
          "T30Y"
         ],
         "xaxis": "x",
         "y": [
          4.37,
          4.3,
          4.27,
          4.16,
          4.18,
          4.31,
          4.52,
          4.76
         ],
         "yaxis": "y"
        },
        {
         "hovertemplate": "date=2025-01-31<br>Maturity=%{x}<br>Yield (%)=%{y}<extra></extra>",
         "legendgroup": "2025-01-31",
         "line": {
          "color": "#FFA15A",
          "dash": "solid"
         },
         "marker": {
          "symbol": "circle"
         },
         "mode": "markers+lines",
         "name": "2025-01-31",
         "orientation": "v",
         "showlegend": true,
         "type": "scatter",
         "x": [
          "T1M",
          "T3M",
          "T6M",
          "T1Y",
          "T2Y",
          "T5Y",
          "T10Y",
          "T30Y"
         ],
         "xaxis": "x",
         "y": [
          4.37,
          4.31,
          4.28,
          4.17,
          4.22,
          4.36,
          4.58,
          4.83
         ],
         "yaxis": "y"
        },
        {
         "hovertemplate": "date=2025-02-03<br>Maturity=%{x}<br>Yield (%)=%{y}<extra></extra>",
         "legendgroup": "2025-02-03",
         "line": {
          "color": "#19d3f3",
          "dash": "solid"
         },
         "marker": {
          "symbol": "circle"
         },
         "mode": "markers+lines",
         "name": "2025-02-03",
         "orientation": "v",
         "showlegend": true,
         "type": "scatter",
         "x": [
          "T1M",
          "T3M",
          "T6M",
          "T1Y",
          "T2Y",
          "T5Y",
          "T10Y",
          "T30Y"
         ],
         "xaxis": "x",
         "y": [
          4.37,
          4.34,
          4.28,
          4.2,
          4.26,
          4.35,
          4.54,
          4.77
         ],
         "yaxis": "y"
        },
        {
         "hovertemplate": "date=2025-02-04<br>Maturity=%{x}<br>Yield (%)=%{y}<extra></extra>",
         "legendgroup": "2025-02-04",
         "line": {
          "color": "#FF6692",
          "dash": "solid"
         },
         "marker": {
          "symbol": "circle"
         },
         "mode": "markers+lines",
         "name": "2025-02-04",
         "orientation": "v",
         "showlegend": true,
         "type": "scatter",
         "x": [
          "T1M",
          "T3M",
          "T6M",
          "T1Y",
          "T2Y",
          "T5Y",
          "T10Y",
          "T30Y"
         ],
         "xaxis": "x",
         "y": [
          4.36,
          4.33,
          4.27,
          4.18,
          4.21,
          4.31,
          4.52,
          4.75
         ],
         "yaxis": "y"
        },
        {
         "hovertemplate": "date=2025-02-05<br>Maturity=%{x}<br>Yield (%)=%{y}<extra></extra>",
         "legendgroup": "2025-02-05",
         "line": {
          "color": "#B6E880",
          "dash": "solid"
         },
         "marker": {
          "symbol": "circle"
         },
         "mode": "markers+lines",
         "name": "2025-02-05",
         "orientation": "v",
         "showlegend": true,
         "type": "scatter",
         "x": [
          "T1M",
          "T3M",
          "T6M",
          "T1Y",
          "T2Y",
          "T5Y",
          "T10Y",
          "T30Y"
         ],
         "xaxis": "x",
         "y": [
          4.35,
          4.33,
          4.27,
          4.17,
          4.17,
          4.24,
          4.43,
          4.64
         ],
         "yaxis": "y"
        },
        {
         "hovertemplate": "date=2025-02-06<br>Maturity=%{x}<br>Yield (%)=%{y}<extra></extra>",
         "legendgroup": "2025-02-06",
         "line": {
          "color": "#FF97FF",
          "dash": "solid"
         },
         "marker": {
          "symbol": "circle"
         },
         "mode": "markers+lines",
         "name": "2025-02-06",
         "orientation": "v",
         "showlegend": true,
         "type": "scatter",
         "x": [
          "T1M",
          "T3M",
          "T6M",
          "T1Y",
          "T2Y",
          "T5Y",
          "T10Y",
          "T30Y"
         ],
         "xaxis": "x",
         "y": [
          4.37,
          4.34,
          4.28,
          4.19,
          4.21,
          4.28,
          4.45,
          4.65
         ],
         "yaxis": "y"
        },
        {
         "hovertemplate": "date=2025-02-07<br>Maturity=%{x}<br>Yield (%)=%{y}<extra></extra>",
         "legendgroup": "2025-02-07",
         "line": {
          "color": "#FECB52",
          "dash": "solid"
         },
         "marker": {
          "symbol": "circle"
         },
         "mode": "markers+lines",
         "name": "2025-02-07",
         "orientation": "v",
         "showlegend": true,
         "type": "scatter",
         "x": [
          "T1M",
          "T3M",
          "T6M",
          "T1Y",
          "T2Y",
          "T5Y",
          "T10Y",
          "T30Y"
         ],
         "xaxis": "x",
         "y": [
          4.37,
          4.35,
          4.3,
          4.25,
          4.29,
          4.34,
          4.49,
          4.69
         ],
         "yaxis": "y"
        }
       ],
       "layout": {
        "autosize": true,
        "legend": {
         "title": {
          "text": "date"
         },
         "tracegroupgap": 0
        },
        "template": {
         "data": {
          "bar": [
           {
            "error_x": {
             "color": "#2a3f5f"
            },
            "error_y": {
             "color": "#2a3f5f"
            },
            "marker": {
             "line": {
              "color": "#E5ECF6",
              "width": 0.5
             },
             "pattern": {
              "fillmode": "overlay",
              "size": 10,
              "solidity": 0.2
             }
            },
            "type": "bar"
           }
          ],
          "barpolar": [
           {
            "marker": {
             "line": {
              "color": "#E5ECF6",
              "width": 0.5
             },
             "pattern": {
              "fillmode": "overlay",
              "size": 10,
              "solidity": 0.2
             }
            },
            "type": "barpolar"
           }
          ],
          "carpet": [
           {
            "aaxis": {
             "endlinecolor": "#2a3f5f",
             "gridcolor": "white",
             "linecolor": "white",
             "minorgridcolor": "white",
             "startlinecolor": "#2a3f5f"
            },
            "baxis": {
             "endlinecolor": "#2a3f5f",
             "gridcolor": "white",
             "linecolor": "white",
             "minorgridcolor": "white",
             "startlinecolor": "#2a3f5f"
            },
            "type": "carpet"
           }
          ],
          "choropleth": [
           {
            "colorbar": {
             "outlinewidth": 0,
             "ticks": ""
            },
            "type": "choropleth"
           }
          ],
          "contour": [
           {
            "colorbar": {
             "outlinewidth": 0,
             "ticks": ""
            },
            "colorscale": [
             [
              0,
              "#0d0887"
             ],
             [
              0.1111111111111111,
              "#46039f"
             ],
             [
              0.2222222222222222,
              "#7201a8"
             ],
             [
              0.3333333333333333,
              "#9c179e"
             ],
             [
              0.4444444444444444,
              "#bd3786"
             ],
             [
              0.5555555555555556,
              "#d8576b"
             ],
             [
              0.6666666666666666,
              "#ed7953"
             ],
             [
              0.7777777777777778,
              "#fb9f3a"
             ],
             [
              0.8888888888888888,
              "#fdca26"
             ],
             [
              1,
              "#f0f921"
             ]
            ],
            "type": "contour"
           }
          ],
          "contourcarpet": [
           {
            "colorbar": {
             "outlinewidth": 0,
             "ticks": ""
            },
            "type": "contourcarpet"
           }
          ],
          "heatmap": [
           {
            "colorbar": {
             "outlinewidth": 0,
             "ticks": ""
            },
            "colorscale": [
             [
              0,
              "#0d0887"
             ],
             [
              0.1111111111111111,
              "#46039f"
             ],
             [
              0.2222222222222222,
              "#7201a8"
             ],
             [
              0.3333333333333333,
              "#9c179e"
             ],
             [
              0.4444444444444444,
              "#bd3786"
             ],
             [
              0.5555555555555556,
              "#d8576b"
             ],
             [
              0.6666666666666666,
              "#ed7953"
             ],
             [
              0.7777777777777778,
              "#fb9f3a"
             ],
             [
              0.8888888888888888,
              "#fdca26"
             ],
             [
              1,
              "#f0f921"
             ]
            ],
            "type": "heatmap"
           }
          ],
          "heatmapgl": [
           {
            "colorbar": {
             "outlinewidth": 0,
             "ticks": ""
            },
            "colorscale": [
             [
              0,
              "#0d0887"
             ],
             [
              0.1111111111111111,
              "#46039f"
             ],
             [
              0.2222222222222222,
              "#7201a8"
             ],
             [
              0.3333333333333333,
              "#9c179e"
             ],
             [
              0.4444444444444444,
              "#bd3786"
             ],
             [
              0.5555555555555556,
              "#d8576b"
             ],
             [
              0.6666666666666666,
              "#ed7953"
             ],
             [
              0.7777777777777778,
              "#fb9f3a"
             ],
             [
              0.8888888888888888,
              "#fdca26"
             ],
             [
              1,
              "#f0f921"
             ]
            ],
            "type": "heatmapgl"
           }
          ],
          "histogram": [
           {
            "marker": {
             "pattern": {
              "fillmode": "overlay",
              "size": 10,
              "solidity": 0.2
             }
            },
            "type": "histogram"
           }
          ],
          "histogram2d": [
           {
            "colorbar": {
             "outlinewidth": 0,
             "ticks": ""
            },
            "colorscale": [
             [
              0,
              "#0d0887"
             ],
             [
              0.1111111111111111,
              "#46039f"
             ],
             [
              0.2222222222222222,
              "#7201a8"
             ],
             [
              0.3333333333333333,
              "#9c179e"
             ],
             [
              0.4444444444444444,
              "#bd3786"
             ],
             [
              0.5555555555555556,
              "#d8576b"
             ],
             [
              0.6666666666666666,
              "#ed7953"
             ],
             [
              0.7777777777777778,
              "#fb9f3a"
             ],
             [
              0.8888888888888888,
              "#fdca26"
             ],
             [
              1,
              "#f0f921"
             ]
            ],
            "type": "histogram2d"
           }
          ],
          "histogram2dcontour": [
           {
            "colorbar": {
             "outlinewidth": 0,
             "ticks": ""
            },
            "colorscale": [
             [
              0,
              "#0d0887"
             ],
             [
              0.1111111111111111,
              "#46039f"
             ],
             [
              0.2222222222222222,
              "#7201a8"
             ],
             [
              0.3333333333333333,
              "#9c179e"
             ],
             [
              0.4444444444444444,
              "#bd3786"
             ],
             [
              0.5555555555555556,
              "#d8576b"
             ],
             [
              0.6666666666666666,
              "#ed7953"
             ],
             [
              0.7777777777777778,
              "#fb9f3a"
             ],
             [
              0.8888888888888888,
              "#fdca26"
             ],
             [
              1,
              "#f0f921"
             ]
            ],
            "type": "histogram2dcontour"
           }
          ],
          "mesh3d": [
           {
            "colorbar": {
             "outlinewidth": 0,
             "ticks": ""
            },
            "type": "mesh3d"
           }
          ],
          "parcoords": [
           {
            "line": {
             "colorbar": {
              "outlinewidth": 0,
              "ticks": ""
             }
            },
            "type": "parcoords"
           }
          ],
          "pie": [
           {
            "automargin": true,
            "type": "pie"
           }
          ],
          "scatter": [
           {
            "fillpattern": {
             "fillmode": "overlay",
             "size": 10,
             "solidity": 0.2
            },
            "type": "scatter"
           }
          ],
          "scatter3d": [
           {
            "line": {
             "colorbar": {
              "outlinewidth": 0,
              "ticks": ""
             }
            },
            "marker": {
             "colorbar": {
              "outlinewidth": 0,
              "ticks": ""
             }
            },
            "type": "scatter3d"
           }
          ],
          "scattercarpet": [
           {
            "marker": {
             "colorbar": {
              "outlinewidth": 0,
              "ticks": ""
             }
            },
            "type": "scattercarpet"
           }
          ],
          "scattergeo": [
           {
            "marker": {
             "colorbar": {
              "outlinewidth": 0,
              "ticks": ""
             }
            },
            "type": "scattergeo"
           }
          ],
          "scattergl": [
           {
            "marker": {
             "colorbar": {
              "outlinewidth": 0,
              "ticks": ""
             }
            },
            "type": "scattergl"
           }
          ],
          "scattermapbox": [
           {
            "marker": {
             "colorbar": {
              "outlinewidth": 0,
              "ticks": ""
             }
            },
            "type": "scattermapbox"
           }
          ],
          "scatterpolar": [
           {
            "marker": {
             "colorbar": {
              "outlinewidth": 0,
              "ticks": ""
             }
            },
            "type": "scatterpolar"
           }
          ],
          "scatterpolargl": [
           {
            "marker": {
             "colorbar": {
              "outlinewidth": 0,
              "ticks": ""
             }
            },
            "type": "scatterpolargl"
           }
          ],
          "scatterternary": [
           {
            "marker": {
             "colorbar": {
              "outlinewidth": 0,
              "ticks": ""
             }
            },
            "type": "scatterternary"
           }
          ],
          "surface": [
           {
            "colorbar": {
             "outlinewidth": 0,
             "ticks": ""
            },
            "colorscale": [
             [
              0,
              "#0d0887"
             ],
             [
              0.1111111111111111,
              "#46039f"
             ],
             [
              0.2222222222222222,
              "#7201a8"
             ],
             [
              0.3333333333333333,
              "#9c179e"
             ],
             [
              0.4444444444444444,
              "#bd3786"
             ],
             [
              0.5555555555555556,
              "#d8576b"
             ],
             [
              0.6666666666666666,
              "#ed7953"
             ],
             [
              0.7777777777777778,
              "#fb9f3a"
             ],
             [
              0.8888888888888888,
              "#fdca26"
             ],
             [
              1,
              "#f0f921"
             ]
            ],
            "type": "surface"
           }
          ],
          "table": [
           {
            "cells": {
             "fill": {
              "color": "#EBF0F8"
             },
             "line": {
              "color": "white"
             }
            },
            "header": {
             "fill": {
              "color": "#C8D4E3"
             },
             "line": {
              "color": "white"
             }
            },
            "type": "table"
           }
          ]
         },
         "layout": {
          "annotationdefaults": {
           "arrowcolor": "#2a3f5f",
           "arrowhead": 0,
           "arrowwidth": 1
          },
          "autotypenumbers": "strict",
          "coloraxis": {
           "colorbar": {
            "outlinewidth": 0,
            "ticks": ""
           }
          },
          "colorscale": {
           "diverging": [
            [
             0,
             "#8e0152"
            ],
            [
             0.1,
             "#c51b7d"
            ],
            [
             0.2,
             "#de77ae"
            ],
            [
             0.3,
             "#f1b6da"
            ],
            [
             0.4,
             "#fde0ef"
            ],
            [
             0.5,
             "#f7f7f7"
            ],
            [
             0.6,
             "#e6f5d0"
            ],
            [
             0.7,
             "#b8e186"
            ],
            [
             0.8,
             "#7fbc41"
            ],
            [
             0.9,
             "#4d9221"
            ],
            [
             1,
             "#276419"
            ]
           ],
           "sequential": [
            [
             0,
             "#0d0887"
            ],
            [
             0.1111111111111111,
             "#46039f"
            ],
            [
             0.2222222222222222,
             "#7201a8"
            ],
            [
             0.3333333333333333,
             "#9c179e"
            ],
            [
             0.4444444444444444,
             "#bd3786"
            ],
            [
             0.5555555555555556,
             "#d8576b"
            ],
            [
             0.6666666666666666,
             "#ed7953"
            ],
            [
             0.7777777777777778,
             "#fb9f3a"
            ],
            [
             0.8888888888888888,
             "#fdca26"
            ],
            [
             1,
             "#f0f921"
            ]
           ],
           "sequentialminus": [
            [
             0,
             "#0d0887"
            ],
            [
             0.1111111111111111,
             "#46039f"
            ],
            [
             0.2222222222222222,
             "#7201a8"
            ],
            [
             0.3333333333333333,
             "#9c179e"
            ],
            [
             0.4444444444444444,
             "#bd3786"
            ],
            [
             0.5555555555555556,
             "#d8576b"
            ],
            [
             0.6666666666666666,
             "#ed7953"
            ],
            [
             0.7777777777777778,
             "#fb9f3a"
            ],
            [
             0.8888888888888888,
             "#fdca26"
            ],
            [
             1,
             "#f0f921"
            ]
           ]
          },
          "colorway": [
           "#636efa",
           "#EF553B",
           "#00cc96",
           "#ab63fa",
           "#FFA15A",
           "#19d3f3",
           "#FF6692",
           "#B6E880",
           "#FF97FF",
           "#FECB52"
          ],
          "font": {
           "color": "#2a3f5f"
          },
          "geo": {
           "bgcolor": "white",
           "lakecolor": "white",
           "landcolor": "#E5ECF6",
           "showlakes": true,
           "showland": true,
           "subunitcolor": "white"
          },
          "hoverlabel": {
           "align": "left"
          },
          "hovermode": "closest",
          "mapbox": {
           "style": "light"
          },
          "paper_bgcolor": "white",
          "plot_bgcolor": "#E5ECF6",
          "polar": {
           "angularaxis": {
            "gridcolor": "white",
            "linecolor": "white",
            "ticks": ""
           },
           "bgcolor": "#E5ECF6",
           "radialaxis": {
            "gridcolor": "white",
            "linecolor": "white",
            "ticks": ""
           }
          },
          "scene": {
           "xaxis": {
            "backgroundcolor": "#E5ECF6",
            "gridcolor": "white",
            "gridwidth": 2,
            "linecolor": "white",
            "showbackground": true,
            "ticks": "",
            "zerolinecolor": "white"
           },
           "yaxis": {
            "backgroundcolor": "#E5ECF6",
            "gridcolor": "white",
            "gridwidth": 2,
            "linecolor": "white",
            "showbackground": true,
            "ticks": "",
            "zerolinecolor": "white"
           },
           "zaxis": {
            "backgroundcolor": "#E5ECF6",
            "gridcolor": "white",
            "gridwidth": 2,
            "linecolor": "white",
            "showbackground": true,
            "ticks": "",
            "zerolinecolor": "white"
           }
          },
          "shapedefaults": {
           "line": {
            "color": "#2a3f5f"
           }
          },
          "ternary": {
           "aaxis": {
            "gridcolor": "white",
            "linecolor": "white",
            "ticks": ""
           },
           "baxis": {
            "gridcolor": "white",
            "linecolor": "white",
            "ticks": ""
           },
           "bgcolor": "#E5ECF6",
           "caxis": {
            "gridcolor": "white",
            "linecolor": "white",
            "ticks": ""
           }
          },
          "title": {
           "x": 0.05
          },
          "xaxis": {
           "automargin": true,
           "gridcolor": "white",
           "linecolor": "white",
           "ticks": "",
           "title": {
            "standoff": 15
           },
           "zerolinecolor": "white",
           "zerolinewidth": 2
          },
          "yaxis": {
           "automargin": true,
           "gridcolor": "white",
           "linecolor": "white",
           "ticks": "",
           "title": {
            "standoff": 15
           },
           "zerolinecolor": "white",
           "zerolinewidth": 2
          }
         }
        },
        "title": {
         "text": "Treasury Yield Curve (2025-01-10 to 2025-02-09)"
        },
        "xaxis": {
         "anchor": "y",
         "autorange": true,
         "domain": [
          0,
          1
         ],
         "range": [
          -0.43223361569326796,
          7.432233615693268
         ],
         "title": {
          "text": "Maturity"
         },
         "type": "category"
        },
        "yaxis": {
         "anchor": "x",
         "autorange": true,
         "domain": [
          0,
          1
         ],
         "range": [
          4.059854368932038,
          5.050145631067962
         ],
         "title": {
          "text": "Yield (%)"
         },
         "type": "linear"
        }
       }
      },
      "image/png": "[encoded data removed]",
      "text/html": [
       "<div>                            <div id=\"a78c474c-57cc-4fd2-9816-697e8dcc882e\" class=\"plotly-graph-div\" style=\"height:525px; width:100%;\"></div>            <script type=\"text/javascript\">                require([\"plotly\"], function(Plotly) {                    window.PLOTLYENV=window.PLOTLYENV || {};                                    if (document.getElementById(\"a78c474c-57cc-4fd2-9816-697e8dcc882e\")) {                    Plotly.newPlot(                        \"a78c474c-57cc-4fd2-9816-697e8dcc882e\",                        [{\"hovertemplate\":\"date=2025-01-10\\u003cbr\\u003eMaturity=%{x}\\u003cbr\\u003eYield (%)=%{y}\\u003cextra\\u003e\\u003c\\u002fextra\\u003e\",\"legendgroup\":\"2025-01-10\",\"line\":{\"color\":\"#636efa\",\"dash\":\"solid\"},\"marker\":{\"symbol\":\"circle\"},\"mode\":\"markers+lines\",\"name\":\"2025-01-10\",\"orientation\":\"v\",\"showlegend\":true,\"x\":[\"T1M\",\"T3M\",\"T6M\",\"T1Y\",\"T2Y\",\"T5Y\",\"T10Y\",\"T30Y\"],\"xaxis\":\"x\",\"y\":[4.42,4.36,4.27,4.25,4.4,4.59,4.77,4.96],\"yaxis\":\"y\",\"type\":\"scatter\"},{\"hovertemplate\":\"date=2025-01-13\\u003cbr\\u003eMaturity=%{x}\\u003cbr\\u003eYield (%)=%{y}\\u003cextra\\u003e\\u003c\\u002fextra\\u003e\",\"legendgroup\":\"2025-01-13\",\"line\":{\"color\":\"#EF553B\",\"dash\":\"solid\"},\"marker\":{\"symbol\":\"circle\"},\"mode\":\"markers+lines\",\"name\":\"2025-01-13\",\"orientation\":\"v\",\"showlegend\":true,\"x\":[\"T1M\",\"T3M\",\"T6M\",\"T1Y\",\"T2Y\",\"T5Y\",\"T10Y\",\"T30Y\"],\"xaxis\":\"x\",\"y\":[4.42,4.37,4.3,4.24,4.4,4.61,4.79,4.97],\"yaxis\":\"y\",\"type\":\"scatter\"},{\"hovertemplate\":\"date=2025-01-14\\u003cbr\\u003eMaturity=%{x}\\u003cbr\\u003eYield (%)=%{y}\\u003cextra\\u003e\\u003c\\u002fextra\\u003e\",\"legendgroup\":\"2025-01-14\",\"line\":{\"color\":\"#00cc96\",\"dash\":\"solid\"},\"marker\":{\"symbol\":\"circle\"},\"mode\":\"markers+lines\",\"name\":\"2025-01-14\",\"orientation\":\"v\",\"showlegend\":true,\"x\":[\"T1M\",\"T3M\",\"T6M\",\"T1Y\",\"T2Y\",\"T5Y\",\"T10Y\",\"T30Y\"],\"xaxis\":\"x\",\"y\":[4.42,4.36,4.29,4.22,4.37,4.59,4.78,4.98],\"yaxis\":\"y\",\"type\":\"scatter\"},{\"hovertemplate\":\"date=2025-01-15\\u003cbr\\u003eMaturity=%{x}\\u003cbr\\u003eYield (%)=%{y}\\u003cextra\\u003e\\u003c\\u002fextra\\u003e\",\"legendgroup\":\"2025-01-15\",\"line\":{\"color\":\"#ab63fa\",\"dash\":\"solid\"},\"marker\":{\"symbol\":\"circle\"},\"mode\":\"markers+lines\",\"name\":\"2025-01-15\",\"orientation\":\"v\",\"showlegend\":true,\"x\":[\"T1M\",\"T3M\",\"T6M\",\"T1Y\",\"T2Y\",\"T5Y\",\"T10Y\",\"T30Y\"],\"xaxis\":\"x\",\"y\":[4.4,4.35,4.26,4.19,4.27,4.45,4.66,4.88],\"yaxis\":\"y\",\"type\":\"scatter\"},{\"hovertemplate\":\"date=2025-01-16\\u003cbr\\u003eMaturity=%{x}\\u003cbr\\u003eYield (%)=%{y}\\u003cextra\\u003e\\u003c\\u002fextra\\u003e\",\"legendgroup\":\"2025-01-16\",\"line\":{\"color\":\"#FFA15A\",\"dash\":\"solid\"},\"marker\":{\"symbol\":\"circle\"},\"mode\":\"markers+lines\",\"name\":\"2025-01-16\",\"orientation\":\"v\",\"showlegend\":true,\"x\":[\"T1M\",\"T3M\",\"T6M\",\"T1Y\",\"T2Y\",\"T5Y\",\"T10Y\",\"T30Y\"],\"xaxis\":\"x\",\"y\":[4.43,4.34,4.26,4.18,4.23,4.39,4.61,4.84],\"yaxis\":\"y\",\"type\":\"scatter\"},{\"hovertemplate\":\"date=2025-01-17\\u003cbr\\u003eMaturity=%{x}\\u003cbr\\u003eYield (%)=%{y}\\u003cextra\\u003e\\u003c\\u002fextra\\u003e\",\"legendgroup\":\"2025-01-17\",\"line\":{\"color\":\"#19d3f3\",\"dash\":\"solid\"},\"marker\":{\"symbol\":\"circle\"},\"mode\":\"markers+lines\",\"name\":\"2025-01-17\",\"orientation\":\"v\",\"showlegend\":true,\"x\":[\"T1M\",\"T3M\",\"T6M\",\"T1Y\",\"T2Y\",\"T5Y\",\"T10Y\",\"T30Y\"],\"xaxis\":\"x\",\"y\":[4.43,4.34,4.28,4.21,4.27,4.42,4.61,4.84],\"yaxis\":\"y\",\"type\":\"scatter\"},{\"hovertemplate\":\"date=2025-01-21\\u003cbr\\u003eMaturity=%{x}\\u003cbr\\u003eYield (%)=%{y}\\u003cextra\\u003e\\u003c\\u002fextra\\u003e\",\"legendgroup\":\"2025-01-21\",\"line\":{\"color\":\"#FF6692\",\"dash\":\"solid\"},\"marker\":{\"symbol\":\"circle\"},\"mode\":\"markers+lines\",\"name\":\"2025-01-21\",\"orientation\":\"v\",\"showlegend\":true,\"x\":[\"T1M\",\"T3M\",\"T6M\",\"T1Y\",\"T2Y\",\"T5Y\",\"T10Y\",\"T30Y\"],\"xaxis\":\"x\",\"y\":[4.42,4.36,4.28,4.21,4.29,4.4,4.57,4.8],\"yaxis\":\"y\",\"type\":\"scatter\"},{\"hovertemplate\":\"date=2025-01-22\\u003cbr\\u003eMaturity=%{x}\\u003cbr\\u003eYield (%)=%{y}\\u003cextra\\u003e\\u003c\\u002fextra\\u003e\",\"legendgroup\":\"2025-01-22\",\"line\":{\"color\":\"#B6E880\",\"dash\":\"solid\"},\"marker\":{\"symbol\":\"circle\"},\"mode\":\"markers+lines\",\"name\":\"2025-01-22\",\"orientation\":\"v\",\"showlegend\":true,\"x\":[\"T1M\",\"T3M\",\"T6M\",\"T1Y\",\"T2Y\",\"T5Y\",\"T10Y\",\"T30Y\"],\"xaxis\":\"x\",\"y\":[4.42,4.36,4.28,4.2,4.29,4.43,4.6,4.82],\"yaxis\":\"y\",\"type\":\"scatter\"},{\"hovertemplate\":\"date=2025-01-23\\u003cbr\\u003eMaturity=%{x}\\u003cbr\\u003eYield (%)=%{y}\\u003cextra\\u003e\\u003c\\u002fextra\\u003e\",\"legendgroup\":\"2025-01-23\",\"line\":{\"color\":\"#FF97FF\",\"dash\":\"solid\"},\"marker\":{\"symbol\":\"circle\"},\"mode\":\"markers+lines\",\"name\":\"2025-01-23\",\"orientation\":\"v\",\"showlegend\":true,\"x\":[\"T1M\",\"T3M\",\"T6M\",\"T1Y\",\"T2Y\",\"T5Y\",\"T10Y\",\"T30Y\"],\"xaxis\":\"x\",\"y\":[4.45,4.36,4.27,4.18,4.29,4.45,4.65,4.87],\"yaxis\":\"y\",\"type\":\"scatter\"},{\"hovertemplate\":\"date=2025-01-24\\u003cbr\\u003eMaturity=%{x}\\u003cbr\\u003eYield (%)=%{y}\\u003cextra\\u003e\\u003c\\u002fextra\\u003e\",\"legendgroup\":\"2025-01-24\",\"line\":{\"color\":\"#FECB52\",\"dash\":\"solid\"},\"marker\":{\"symbol\":\"circle\"},\"mode\":\"markers+lines\",\"name\":\"2025-01-24\",\"orientation\":\"v\",\"showlegend\":true,\"x\":[\"T1M\",\"T3M\",\"T6M\",\"T1Y\",\"T2Y\",\"T5Y\",\"T10Y\",\"T30Y\"],\"xaxis\":\"x\",\"y\":[4.45,4.35,4.25,4.17,4.27,4.43,4.63,4.85],\"yaxis\":\"y\",\"type\":\"scatter\"},{\"hovertemplate\":\"date=2025-01-27\\u003cbr\\u003eMaturity=%{x}\\u003cbr\\u003eYield (%)=%{y}\\u003cextra\\u003e\\u003c\\u002fextra\\u003e\",\"legendgroup\":\"2025-01-27\",\"line\":{\"color\":\"#636efa\",\"dash\":\"solid\"},\"marker\":{\"symbol\":\"circle\"},\"mode\":\"markers+lines\",\"name\":\"2025-01-27\",\"orientation\":\"v\",\"showlegend\":true,\"x\":[\"T1M\",\"T3M\",\"T6M\",\"T1Y\",\"T2Y\",\"T5Y\",\"T10Y\",\"T30Y\"],\"xaxis\":\"x\",\"y\":[4.44,4.32,4.25,4.13,4.17,4.32,4.53,4.76],\"yaxis\":\"y\",\"type\":\"scatter\"},{\"hovertemplate\":\"date=2025-01-28\\u003cbr\\u003eMaturity=%{x}\\u003cbr\\u003eYield (%)=%{y}\\u003cextra\\u003e\\u003c\\u002fextra\\u003e\",\"legendgroup\":\"2025-01-28\",\"line\":{\"color\":\"#EF553B\",\"dash\":\"solid\"},\"marker\":{\"symbol\":\"circle\"},\"mode\":\"markers+lines\",\"name\":\"2025-01-28\",\"orientation\":\"v\",\"showlegend\":true,\"x\":[\"T1M\",\"T3M\",\"T6M\",\"T1Y\",\"T2Y\",\"T5Y\",\"T10Y\",\"T30Y\"],\"xaxis\":\"x\",\"y\":[4.44,4.31,4.26,4.14,4.19,4.33,4.55,4.78],\"yaxis\":\"y\",\"type\":\"scatter\"},{\"hovertemplate\":\"date=2025-01-29\\u003cbr\\u003eMaturity=%{x}\\u003cbr\\u003eYield (%)=%{y}\\u003cextra\\u003e\\u003c\\u002fextra\\u003e\",\"legendgroup\":\"2025-01-29\",\"line\":{\"color\":\"#00cc96\",\"dash\":\"solid\"},\"marker\":{\"symbol\":\"circle\"},\"mode\":\"markers+lines\",\"name\":\"2025-01-29\",\"orientation\":\"v\",\"showlegend\":true,\"x\":[\"T1M\",\"T3M\",\"T6M\",\"T1Y\",\"T2Y\",\"T5Y\",\"T10Y\",\"T30Y\"],\"xaxis\":\"x\",\"y\":[4.43,4.31,4.27,4.17,4.21,4.35,4.55,4.79],\"yaxis\":\"y\",\"type\":\"scatter\"},{\"hovertemplate\":\"date=2025-01-30\\u003cbr\\u003eMaturity=%{x}\\u003cbr\\u003eYield (%)=%{y}\\u003cextra\\u003e\\u003c\\u002fextra\\u003e\",\"legendgroup\":\"2025-01-30\",\"line\":{\"color\":\"#ab63fa\",\"dash\":\"solid\"},\"marker\":{\"symbol\":\"circle\"},\"mode\":\"markers+lines\",\"name\":\"2025-01-30\",\"orientation\":\"v\",\"showlegend\":true,\"x\":[\"T1M\",\"T3M\",\"T6M\",\"T1Y\",\"T2Y\",\"T5Y\",\"T10Y\",\"T30Y\"],\"xaxis\":\"x\",\"y\":[4.37,4.3,4.27,4.16,4.18,4.31,4.52,4.76],\"yaxis\":\"y\",\"type\":\"scatter\"},{\"hovertemplate\":\"date=2025-01-31\\u003cbr\\u003eMaturity=%{x}\\u003cbr\\u003eYield (%)=%{y}\\u003cextra\\u003e\\u003c\\u002fextra\\u003e\",\"legendgroup\":\"2025-01-31\",\"line\":{\"color\":\"#FFA15A\",\"dash\":\"solid\"},\"marker\":{\"symbol\":\"circle\"},\"mode\":\"markers+lines\",\"name\":\"2025-01-31\",\"orientation\":\"v\",\"showlegend\":true,\"x\":[\"T1M\",\"T3M\",\"T6M\",\"T1Y\",\"T2Y\",\"T5Y\",\"T10Y\",\"T30Y\"],\"xaxis\":\"x\",\"y\":[4.37,4.31,4.28,4.17,4.22,4.36,4.58,4.83],\"yaxis\":\"y\",\"type\":\"scatter\"},{\"hovertemplate\":\"date=2025-02-03\\u003cbr\\u003eMaturity=%{x}\\u003cbr\\u003eYield (%)=%{y}\\u003cextra\\u003e\\u003c\\u002fextra\\u003e\",\"legendgroup\":\"2025-02-03\",\"line\":{\"color\":\"#19d3f3\",\"dash\":\"solid\"},\"marker\":{\"symbol\":\"circle\"},\"mode\":\"markers+lines\",\"name\":\"2025-02-03\",\"orientation\":\"v\",\"showlegend\":true,\"x\":[\"T1M\",\"T3M\",\"T6M\",\"T1Y\",\"T2Y\",\"T5Y\",\"T10Y\",\"T30Y\"],\"xaxis\":\"x\",\"y\":[4.37,4.34,4.28,4.2,4.26,4.35,4.54,4.77],\"yaxis\":\"y\",\"type\":\"scatter\"},{\"hovertemplate\":\"date=2025-02-04\\u003cbr\\u003eMaturity=%{x}\\u003cbr\\u003eYield (%)=%{y}\\u003cextra\\u003e\\u003c\\u002fextra\\u003e\",\"legendgroup\":\"2025-02-04\",\"line\":{\"color\":\"#FF6692\",\"dash\":\"solid\"},\"marker\":{\"symbol\":\"circle\"},\"mode\":\"markers+lines\",\"name\":\"2025-02-04\",\"orientation\":\"v\",\"showlegend\":true,\"x\":[\"T1M\",\"T3M\",\"T6M\",\"T1Y\",\"T2Y\",\"T5Y\",\"T10Y\",\"T30Y\"],\"xaxis\":\"x\",\"y\":[4.36,4.33,4.27,4.18,4.21,4.31,4.52,4.75],\"yaxis\":\"y\",\"type\":\"scatter\"},{\"hovertemplate\":\"date=2025-02-05\\u003cbr\\u003eMaturity=%{x}\\u003cbr\\u003eYield (%)=%{y}\\u003cextra\\u003e\\u003c\\u002fextra\\u003e\",\"legendgroup\":\"2025-02-05\",\"line\":{\"color\":\"#B6E880\",\"dash\":\"solid\"},\"marker\":{\"symbol\":\"circle\"},\"mode\":\"markers+lines\",\"name\":\"2025-02-05\",\"orientation\":\"v\",\"showlegend\":true,\"x\":[\"T1M\",\"T3M\",\"T6M\",\"T1Y\",\"T2Y\",\"T5Y\",\"T10Y\",\"T30Y\"],\"xaxis\":\"x\",\"y\":[4.35,4.33,4.27,4.17,4.17,4.24,4.43,4.64],\"yaxis\":\"y\",\"type\":\"scatter\"},{\"hovertemplate\":\"date=2025-02-06\\u003cbr\\u003eMaturity=%{x}\\u003cbr\\u003eYield (%)=%{y}\\u003cextra\\u003e\\u003c\\u002fextra\\u003e\",\"legendgroup\":\"2025-02-06\",\"line\":{\"color\":\"#FF97FF\",\"dash\":\"solid\"},\"marker\":{\"symbol\":\"circle\"},\"mode\":\"markers+lines\",\"name\":\"2025-02-06\",\"orientation\":\"v\",\"showlegend\":true,\"x\":[\"T1M\",\"T3M\",\"T6M\",\"T1Y\",\"T2Y\",\"T5Y\",\"T10Y\",\"T30Y\"],\"xaxis\":\"x\",\"y\":[4.37,4.34,4.28,4.19,4.21,4.28,4.45,4.65],\"yaxis\":\"y\",\"type\":\"scatter\"},{\"hovertemplate\":\"date=2025-02-07\\u003cbr\\u003eMaturity=%{x}\\u003cbr\\u003eYield (%)=%{y}\\u003cextra\\u003e\\u003c\\u002fextra\\u003e\",\"legendgroup\":\"2025-02-07\",\"line\":{\"color\":\"#FECB52\",\"dash\":\"solid\"},\"marker\":{\"symbol\":\"circle\"},\"mode\":\"markers+lines\",\"name\":\"2025-02-07\",\"orientation\":\"v\",\"showlegend\":true,\"x\":[\"T1M\",\"T3M\",\"T6M\",\"T1Y\",\"T2Y\",\"T5Y\",\"T10Y\",\"T30Y\"],\"xaxis\":\"x\",\"y\":[4.37,4.35,4.3,4.25,4.29,4.34,4.49,4.69],\"yaxis\":\"y\",\"type\":\"scatter\"}],                        {\"template\":{\"data\":{\"histogram2dcontour\":[{\"type\":\"histogram2dcontour\",\"colorbar\":{\"outlinewidth\":0,\"ticks\":\"\"},\"colorscale\":[[0.0,\"#0d0887\"],[0.1111111111111111,\"#46039f\"],[0.2222222222222222,\"#7201a8\"],[0.3333333333333333,\"#9c179e\"],[0.4444444444444444,\"#bd3786\"],[0.5555555555555556,\"#d8576b\"],[0.6666666666666666,\"#ed7953\"],[0.7777777777777778,\"#fb9f3a\"],[0.8888888888888888,\"#fdca26\"],[1.0,\"#f0f921\"]]}],\"choropleth\":[{\"type\":\"choropleth\",\"colorbar\":{\"outlinewidth\":0,\"ticks\":\"\"}}],\"histogram2d\":[{\"type\":\"histogram2d\",\"colorbar\":{\"outlinewidth\":0,\"ticks\":\"\"},\"colorscale\":[[0.0,\"#0d0887\"],[0.1111111111111111,\"#46039f\"],[0.2222222222222222,\"#7201a8\"],[0.3333333333333333,\"#9c179e\"],[0.4444444444444444,\"#bd3786\"],[0.5555555555555556,\"#d8576b\"],[0.6666666666666666,\"#ed7953\"],[0.7777777777777778,\"#fb9f3a\"],[0.8888888888888888,\"#fdca26\"],[1.0,\"#f0f921\"]]}],\"heatmap\":[{\"type\":\"heatmap\",\"colorbar\":{\"outlinewidth\":0,\"ticks\":\"\"},\"colorscale\":[[0.0,\"#0d0887\"],[0.1111111111111111,\"#46039f\"],[0.2222222222222222,\"#7201a8\"],[0.3333333333333333,\"#9c179e\"],[0.4444444444444444,\"#bd3786\"],[0.5555555555555556,\"#d8576b\"],[0.6666666666666666,\"#ed7953\"],[0.7777777777777778,\"#fb9f3a\"],[0.8888888888888888,\"#fdca26\"],[1.0,\"#f0f921\"]]}],\"heatmapgl\":[{\"type\":\"heatmapgl\",\"colorbar\":{\"outlinewidth\":0,\"ticks\":\"\"},\"colorscale\":[[0.0,\"#0d0887\"],[0.1111111111111111,\"#46039f\"],[0.2222222222222222,\"#7201a8\"],[0.3333333333333333,\"#9c179e\"],[0.4444444444444444,\"#bd3786\"],[0.5555555555555556,\"#d8576b\"],[0.6666666666666666,\"#ed7953\"],[0.7777777777777778,\"#fb9f3a\"],[0.8888888888888888,\"#fdca26\"],[1.0,\"#f0f921\"]]}],\"contourcarpet\":[{\"type\":\"contourcarpet\",\"colorbar\":{\"outlinewidth\":0,\"ticks\":\"\"}}],\"contour\":[{\"type\":\"contour\",\"colorbar\":{\"outlinewidth\":0,\"ticks\":\"\"},\"colorscale\":[[0.0,\"#0d0887\"],[0.1111111111111111,\"#46039f\"],[0.2222222222222222,\"#7201a8\"],[0.3333333333333333,\"#9c179e\"],[0.4444444444444444,\"#bd3786\"],[0.5555555555555556,\"#d8576b\"],[0.6666666666666666,\"#ed7953\"],[0.7777777777777778,\"#fb9f3a\"],[0.8888888888888888,\"#fdca26\"],[1.0,\"#f0f921\"]]}],\"surface\":[{\"type\":\"surface\",\"colorbar\":{\"outlinewidth\":0,\"ticks\":\"\"},\"colorscale\":[[0.0,\"#0d0887\"],[0.1111111111111111,\"#46039f\"],[0.2222222222222222,\"#7201a8\"],[0.3333333333333333,\"#9c179e\"],[0.4444444444444444,\"#bd3786\"],[0.5555555555555556,\"#d8576b\"],[0.6666666666666666,\"#ed7953\"],[0.7777777777777778,\"#fb9f3a\"],[0.8888888888888888,\"#fdca26\"],[1.0,\"#f0f921\"]]}],\"mesh3d\":[{\"type\":\"mesh3d\",\"colorbar\":{\"outlinewidth\":0,\"ticks\":\"\"}}],\"scatter\":[{\"fillpattern\":{\"fillmode\":\"overlay\",\"size\":10,\"solidity\":0.2},\"type\":\"scatter\"}],\"parcoords\":[{\"type\":\"parcoords\",\"line\":{\"colorbar\":{\"outlinewidth\":0,\"ticks\":\"\"}}}],\"scatterpolargl\":[{\"type\":\"scatterpolargl\",\"marker\":{\"colorbar\":{\"outlinewidth\":0,\"ticks\":\"\"}}}],\"bar\":[{\"error_x\":{\"color\":\"#2a3f5f\"},\"error_y\":{\"color\":\"#2a3f5f\"},\"marker\":{\"line\":{\"color\":\"#E5ECF6\",\"width\":0.5},\"pattern\":{\"fillmode\":\"overlay\",\"size\":10,\"solidity\":0.2}},\"type\":\"bar\"}],\"scattergeo\":[{\"type\":\"scattergeo\",\"marker\":{\"colorbar\":{\"outlinewidth\":0,\"ticks\":\"\"}}}],\"scatterpolar\":[{\"type\":\"scatterpolar\",\"marker\":{\"colorbar\":{\"outlinewidth\":0,\"ticks\":\"\"}}}],\"histogram\":[{\"marker\":{\"pattern\":{\"fillmode\":\"overlay\",\"size\":10,\"solidity\":0.2}},\"type\":\"histogram\"}],\"scattergl\":[{\"type\":\"scattergl\",\"marker\":{\"colorbar\":{\"outlinewidth\":0,\"ticks\":\"\"}}}],\"scatter3d\":[{\"type\":\"scatter3d\",\"line\":{\"colorbar\":{\"outlinewidth\":0,\"ticks\":\"\"}},\"marker\":{\"colorbar\":{\"outlinewidth\":0,\"ticks\":\"\"}}}],\"scattermapbox\":[{\"type\":\"scattermapbox\",\"marker\":{\"colorbar\":{\"outlinewidth\":0,\"ticks\":\"\"}}}],\"scatterternary\":[{\"type\":\"scatterternary\",\"marker\":{\"colorbar\":{\"outlinewidth\":0,\"ticks\":\"\"}}}],\"scattercarpet\":[{\"type\":\"scattercarpet\",\"marker\":{\"colorbar\":{\"outlinewidth\":0,\"ticks\":\"\"}}}],\"carpet\":[{\"aaxis\":{\"endlinecolor\":\"#2a3f5f\",\"gridcolor\":\"white\",\"linecolor\":\"white\",\"minorgridcolor\":\"white\",\"startlinecolor\":\"#2a3f5f\"},\"baxis\":{\"endlinecolor\":\"#2a3f5f\",\"gridcolor\":\"white\",\"linecolor\":\"white\",\"minorgridcolor\":\"white\",\"startlinecolor\":\"#2a3f5f\"},\"type\":\"carpet\"}],\"table\":[{\"cells\":{\"fill\":{\"color\":\"#EBF0F8\"},\"line\":{\"color\":\"white\"}},\"header\":{\"fill\":{\"color\":\"#C8D4E3\"},\"line\":{\"color\":\"white\"}},\"type\":\"table\"}],\"barpolar\":[{\"marker\":{\"line\":{\"color\":\"#E5ECF6\",\"width\":0.5},\"pattern\":{\"fillmode\":\"overlay\",\"size\":10,\"solidity\":0.2}},\"type\":\"barpolar\"}],\"pie\":[{\"automargin\":true,\"type\":\"pie\"}]},\"layout\":{\"autotypenumbers\":\"strict\",\"colorway\":[\"#636efa\",\"#EF553B\",\"#00cc96\",\"#ab63fa\",\"#FFA15A\",\"#19d3f3\",\"#FF6692\",\"#B6E880\",\"#FF97FF\",\"#FECB52\"],\"font\":{\"color\":\"#2a3f5f\"},\"hovermode\":\"closest\",\"hoverlabel\":{\"align\":\"left\"},\"paper_bgcolor\":\"white\",\"plot_bgcolor\":\"#E5ECF6\",\"polar\":{\"bgcolor\":\"#E5ECF6\",\"angularaxis\":{\"gridcolor\":\"white\",\"linecolor\":\"white\",\"ticks\":\"\"},\"radialaxis\":{\"gridcolor\":\"white\",\"linecolor\":\"white\",\"ticks\":\"\"}},\"ternary\":{\"bgcolor\":\"#E5ECF6\",\"aaxis\":{\"gridcolor\":\"white\",\"linecolor\":\"white\",\"ticks\":\"\"},\"baxis\":{\"gridcolor\":\"white\",\"linecolor\":\"white\",\"ticks\":\"\"},\"caxis\":{\"gridcolor\":\"white\",\"linecolor\":\"white\",\"ticks\":\"\"}},\"coloraxis\":{\"colorbar\":{\"outlinewidth\":0,\"ticks\":\"\"}},\"colorscale\":{\"sequential\":[[0.0,\"#0d0887\"],[0.1111111111111111,\"#46039f\"],[0.2222222222222222,\"#7201a8\"],[0.3333333333333333,\"#9c179e\"],[0.4444444444444444,\"#bd3786\"],[0.5555555555555556,\"#d8576b\"],[0.6666666666666666,\"#ed7953\"],[0.7777777777777778,\"#fb9f3a\"],[0.8888888888888888,\"#fdca26\"],[1.0,\"#f0f921\"]],\"sequentialminus\":[[0.0,\"#0d0887\"],[0.1111111111111111,\"#46039f\"],[0.2222222222222222,\"#7201a8\"],[0.3333333333333333,\"#9c179e\"],[0.4444444444444444,\"#bd3786\"],[0.5555555555555556,\"#d8576b\"],[0.6666666666666666,\"#ed7953\"],[0.7777777777777778,\"#fb9f3a\"],[0.8888888888888888,\"#fdca26\"],[1.0,\"#f0f921\"]],\"diverging\":[[0,\"#8e0152\"],[0.1,\"#c51b7d\"],[0.2,\"#de77ae\"],[0.3,\"#f1b6da\"],[0.4,\"#fde0ef\"],[0.5,\"#f7f7f7\"],[0.6,\"#e6f5d0\"],[0.7,\"#b8e186\"],[0.8,\"#7fbc41\"],[0.9,\"#4d9221\"],[1,\"#276419\"]]},\"xaxis\":{\"gridcolor\":\"white\",\"linecolor\":\"white\",\"ticks\":\"\",\"title\":{\"standoff\":15},\"zerolinecolor\":\"white\",\"automargin\":true,\"zerolinewidth\":2},\"yaxis\":{\"gridcolor\":\"white\",\"linecolor\":\"white\",\"ticks\":\"\",\"title\":{\"standoff\":15},\"zerolinecolor\":\"white\",\"automargin\":true,\"zerolinewidth\":2},\"scene\":{\"xaxis\":{\"backgroundcolor\":\"#E5ECF6\",\"gridcolor\":\"white\",\"linecolor\":\"white\",\"showbackground\":true,\"ticks\":\"\",\"zerolinecolor\":\"white\",\"gridwidth\":2},\"yaxis\":{\"backgroundcolor\":\"#E5ECF6\",\"gridcolor\":\"white\",\"linecolor\":\"white\",\"showbackground\":true,\"ticks\":\"\",\"zerolinecolor\":\"white\",\"gridwidth\":2},\"zaxis\":{\"backgroundcolor\":\"#E5ECF6\",\"gridcolor\":\"white\",\"linecolor\":\"white\",\"showbackground\":true,\"ticks\":\"\",\"zerolinecolor\":\"white\",\"gridwidth\":2}},\"shapedefaults\":{\"line\":{\"color\":\"#2a3f5f\"}},\"annotationdefaults\":{\"arrowcolor\":\"#2a3f5f\",\"arrowhead\":0,\"arrowwidth\":1},\"geo\":{\"bgcolor\":\"white\",\"landcolor\":\"#E5ECF6\",\"subunitcolor\":\"white\",\"showland\":true,\"showlakes\":true,\"lakecolor\":\"white\"},\"title\":{\"x\":0.05},\"mapbox\":{\"style\":\"light\"}}},\"xaxis\":{\"anchor\":\"y\",\"domain\":[0.0,1.0],\"title\":{\"text\":\"Maturity\"}},\"yaxis\":{\"anchor\":\"x\",\"domain\":[0.0,1.0],\"title\":{\"text\":\"Yield (%)\"}},\"legend\":{\"title\":{\"text\":\"date\"},\"tracegroupgap\":0},\"title\":{\"text\":\"Treasury Yield Curve (2025-01-10 to 2025-02-09)\"}},                        {\"responsive\": true}                    ).then(function(){\n",
       "                            \n",
       "var gd = document.getElementById('a78c474c-57cc-4fd2-9816-697e8dcc882e');\n",
       "var x = new MutationObserver(function (mutations, observer) {{\n",
       "        var display = window.getComputedStyle(gd).display;\n",
       "        if (!display || display === 'none') {{\n",
       "            console.log([gd, 'removed!']);\n",
       "            Plotly.purge(gd);\n",
       "            observer.disconnect();\n",
       "        }}\n",
       "}});\n",
       "\n",
       "// Listen for the removal of the full notebook cells\n",
       "var notebookContainer = gd.closest('#notebook-container');\n",
       "if (notebookContainer) {{\n",
       "    x.observe(notebookContainer, {childList: true});\n",
       "}}\n",
       "\n",
       "// Listen for the clearing of the current output cell\n",
       "var outputEl = gd.closest('.output');\n",
       "if (outputEl) {{\n",
       "    x.observe(outputEl, {childList: true});\n",
       "}}\n",
       "\n",
       "                        })                };                });            </script>        </div>"
      ]
     },
     "metadata": {},
     "output_type": "display_data"
    }
   ],
   "source": [
    "fig = plot_yields(db_file = \"yields.db\",\n",
    "            start_date = \"2025-01-10\",\n",
    "            end_date = \"2025-02-09\")\n",
    "\n",
    "fig.show()"
   ]
  },
  {
   "cell_type": "code",
   "execution_count": 53,
   "id": "aac39517-4a60-4d2e-840f-395371ea2e1a",
   "metadata": {
    "tags": []
   },
   "outputs": [],
   "source": [
    "import pandas as pd\n",
    "import numpy as np\n",
    "import plotly.graph_objects as go\n",
    "from pmdarima import auto_arima\n",
    "from statsmodels.tsa.arima.model import ARIMA"
   ]
  },
  {
   "cell_type": "code",
   "execution_count": 70,
   "id": "abbf7d50-f5e5-4053-86d7-4b108b3a345c",
   "metadata": {},
   "outputs": [],
   "source": [
    "def forecast_treasury_rates(csv_path, forecast_periods=30, time_horizon=\"6M\"):\n",
    "    \"\"\"\n",
    "    Reads a Treasury rate CSV, handles missing data, applies ARIMA forecasting,\n",
    "    and plots the results using Plotly.\n",
    "    \"\"\"\n",
    "\n",
    "    # Load the dataset\n",
    "    df = pd.read_csv(csv_path, parse_dates=[\"date\"])\n",
    "    df.set_index(\"date\", inplace=True)\n",
    "    \n",
    "    df = df.asfreq(\"B\")\n",
    "\n",
    "    # Handle missing data (forward fill, then interpolate remaining gaps)\n",
    "    df[\"yield\"] = df[\"yield\"].ffill().interpolate()\n",
    "\n",
    "    # Auto ARIMA model selection\n",
    "    model = auto_arima(df[\"yield\"], seasonal=True, stepwise=True, suppress_warnings=True, m=12)\n",
    "    \n",
    "    # Fit the best ARIMA model\n",
    "    arima_model = sm.tsa.ARIMA(df[\"yield\"], order=model.order).fit()\n",
    "\n",
    "    # Forecast future values\n",
    "    forecast_index = pd.date_range(start=df.index[-1], periods=forecast_periods+1, freq=\"B\")[1:]\n",
    "    forecast_values = arima_model.forecast(steps=forecast_periods)\n",
    "\n",
    "    # Create a DataFrame for the forecast\n",
    "    forecast_df = pd.DataFrame({\"yield\": forecast_values}, index=forecast_index)\n",
    "\n",
    "    # Concatenate actual & forecasted data\n",
    "    df_combined = pd.concat([df, forecast_df])\n",
    "\n",
    "    # Limit time horizon for visualization\n",
    "    df_filtered = df_combined.last(time_horizon)\n",
    "\n",
    "    # Create Plotly figure\n",
    "    fig = go.Figure()\n",
    "\n",
    "    # Actual data trace\n",
    "    fig.add_trace(go.Scatter(\n",
    "        x=df_filtered.index, \n",
    "        y=df_filtered[\"yield\"],\n",
    "        mode=\"lines\",\n",
    "        name=\"Actual Yield\",\n",
    "        line=dict(color=\"lightblue\")\n",
    "    ))\n",
    "\n",
    "    # Forecast data trace\n",
    "    fig.add_trace(go.Scatter(\n",
    "        x=forecast_df.index, \n",
    "        y=forecast_df[\"yield\"],\n",
    "        mode=\"lines\",\n",
    "        name=\"Forecast\",\n",
    "        line=dict(color=\"red\", dash=\"dot\")\n",
    "    ))\n",
    "\n",
    "    # Update layout\n",
    "    fig.update_layout(\n",
    "        title=\"Short-Term Treasury Rate Forecast (ARIMA)\",\n",
    "        xaxis_title=\"Date\",\n",
    "        yaxis_title=\"Yield (%)\",\n",
    "        template=\"plotly_white\",\n",
    "        xaxis=dict(range=[df_filtered.index.min(), df_filtered.index.max()])\n",
    "    )\n",
    "\n",
    "    # Show plot\n",
    "    return fig"
   ]
  },
  {
   "cell_type": "code",
   "execution_count": null,
   "id": "5c44c98b-3b58-4873-a948-8199f8a63ca5",
   "metadata": {
    "tags": []
   },
   "outputs": [],
   "source": [
    "fig = forecast_treasury_rates(\"T1Y_Treasury.csv\", \n",
    "                              forecast_periods=30, \n",
    "                              time_horizon=\"6M\")\n",
    "fig.show()"
   ]
  },
  {
   "cell_type": "code",
   "execution_count": 58,
   "id": "8edc168a-14be-4759-80f7-51b4b75f250b",
   "metadata": {
    "tags": []
   },
   "outputs": [
    {
     "name": "stdout",
     "output_type": "stream",
     "text": [
      "p-value: 0.21474651742188788\n"
     ]
    }
   ],
   "source": [
    "from statsmodels.tsa.stattools import adfuller\n",
    "\n",
    "result = adfuller(df[\"yield\"])\n",
    "print(\"p-value:\", result[1])  # If p > 0.05, the data is non-stationary"
   ]
  },
  {
   "cell_type": "code",
   "execution_count": 59,
   "id": "6ac4f1db-d626-4c22-8235-10ed98894abd",
   "metadata": {
    "tags": []
   },
   "outputs": [
    {
     "name": "stdout",
     "output_type": "stream",
     "text": [
      "p-value: 0.34611151135178864\n"
     ]
    }
   ],
   "source": [
    "result = adfuller(np.log(df[\"yield\"]))\n",
    "print(\"p-value:\", result[1])  # If p > 0.05, the data is non-stationary"
   ]
  },
  {
   "cell_type": "code",
   "execution_count": 63,
   "id": "98500bc9-7d97-4c90-953f-df186717b021",
   "metadata": {
    "tags": []
   },
   "outputs": [
    {
     "data": {
      "text/html": [
       "<div>\n",
       "<style scoped>\n",
       "    .dataframe tbody tr th:only-of-type {\n",
       "        vertical-align: middle;\n",
       "    }\n",
       "\n",
       "    .dataframe tbody tr th {\n",
       "        vertical-align: top;\n",
       "    }\n",
       "\n",
       "    .dataframe thead th {\n",
       "        text-align: right;\n",
       "    }\n",
       "</style>\n",
       "<table border=\"1\" class=\"dataframe\">\n",
       "  <thead>\n",
       "    <tr style=\"text-align: right;\">\n",
       "      <th></th>\n",
       "      <th>yield</th>\n",
       "      <th>yield_diff</th>\n",
       "    </tr>\n",
       "    <tr>\n",
       "      <th>date</th>\n",
       "      <th></th>\n",
       "      <th></th>\n",
       "    </tr>\n",
       "  </thead>\n",
       "  <tbody>\n",
       "    <tr>\n",
       "      <th>1962-01-02</th>\n",
       "      <td>3.22</td>\n",
       "      <td>NaN</td>\n",
       "    </tr>\n",
       "    <tr>\n",
       "      <th>1962-01-03</th>\n",
       "      <td>3.24</td>\n",
       "      <td>0.02</td>\n",
       "    </tr>\n",
       "    <tr>\n",
       "      <th>1962-01-04</th>\n",
       "      <td>3.24</td>\n",
       "      <td>0.00</td>\n",
       "    </tr>\n",
       "    <tr>\n",
       "      <th>1962-01-05</th>\n",
       "      <td>3.26</td>\n",
       "      <td>0.02</td>\n",
       "    </tr>\n",
       "    <tr>\n",
       "      <th>1962-01-08</th>\n",
       "      <td>3.31</td>\n",
       "      <td>0.05</td>\n",
       "    </tr>\n",
       "    <tr>\n",
       "      <th>...</th>\n",
       "      <td>...</td>\n",
       "      <td>...</td>\n",
       "    </tr>\n",
       "    <tr>\n",
       "      <th>2025-02-03</th>\n",
       "      <td>4.20</td>\n",
       "      <td>0.03</td>\n",
       "    </tr>\n",
       "    <tr>\n",
       "      <th>2025-02-04</th>\n",
       "      <td>4.18</td>\n",
       "      <td>-0.02</td>\n",
       "    </tr>\n",
       "    <tr>\n",
       "      <th>2025-02-05</th>\n",
       "      <td>4.17</td>\n",
       "      <td>-0.01</td>\n",
       "    </tr>\n",
       "    <tr>\n",
       "      <th>2025-02-06</th>\n",
       "      <td>4.19</td>\n",
       "      <td>0.02</td>\n",
       "    </tr>\n",
       "    <tr>\n",
       "      <th>2025-02-07</th>\n",
       "      <td>4.25</td>\n",
       "      <td>0.06</td>\n",
       "    </tr>\n",
       "  </tbody>\n",
       "</table>\n",
       "<p>16464 rows × 2 columns</p>\n",
       "</div>"
      ],
      "text/plain": [
       "            yield  yield_diff\n",
       "date                         \n",
       "1962-01-02   3.22         NaN\n",
       "1962-01-03   3.24        0.02\n",
       "1962-01-04   3.24        0.00\n",
       "1962-01-05   3.26        0.02\n",
       "1962-01-08   3.31        0.05\n",
       "...           ...         ...\n",
       "2025-02-03   4.20        0.03\n",
       "2025-02-04   4.18       -0.02\n",
       "2025-02-05   4.17       -0.01\n",
       "2025-02-06   4.19        0.02\n",
       "2025-02-07   4.25        0.06\n",
       "\n",
       "[16464 rows x 2 columns]"
      ]
     },
     "execution_count": 63,
     "metadata": {},
     "output_type": "execute_result"
    }
   ],
   "source": [
    "df = pd.read_csv(\"T1Y_Treasury.csv\", parse_dates=[\"date\"])\n",
    "df.set_index(\"date\", inplace=True)\n",
    "\n",
    "# Handle missing data\n",
    "df[\"yield\"] = df[\"yield\"].ffill().interpolate()\n",
    "    \n",
    "df[\"yield_diff\"] = df[\"yield\"].diff().dropna()\n",
    "\n",
    "df"
   ]
  },
  {
   "cell_type": "code",
   "execution_count": 64,
   "id": "a7925b3e-0167-49e1-a220-46559dea3fc5",
   "metadata": {
    "tags": []
   },
   "outputs": [
    {
     "name": "stdout",
     "output_type": "stream",
     "text": [
      "p-value after differencing: 0.0\n"
     ]
    }
   ],
   "source": [
    "result = adfuller(df[\"yield_diff\"].dropna())  # Drop NaN from first differencing\n",
    "print(\"p-value after differencing:\", result[1])"
   ]
  },
  {
   "cell_type": "code",
   "execution_count": 65,
   "id": "0f28cab9-5d8e-4e7f-87d9-80ff3762f169",
   "metadata": {
    "tags": []
   },
   "outputs": [
    {
     "name": "stdout",
     "output_type": "stream",
     "text": [
      "Performing stepwise search to minimize aic\n",
      " ARIMA(2,0,2)(0,0,0)[0]             : AIC=-37628.548, Time=1.93 sec\n",
      " ARIMA(0,0,0)(0,0,0)[0]             : AIC=-37419.894, Time=0.47 sec\n",
      " ARIMA(1,0,0)(0,0,0)[0]             : AIC=-37570.016, Time=0.40 sec\n",
      " ARIMA(0,0,1)(0,0,0)[0]             : AIC=-37559.310, Time=0.51 sec\n",
      " ARIMA(1,0,2)(0,0,0)[0]             : AIC=-37583.573, Time=0.72 sec\n",
      " ARIMA(2,0,1)(0,0,0)[0]             : AIC=-37585.068, Time=0.69 sec\n",
      " ARIMA(3,0,2)(0,0,0)[0]             : AIC=-37664.685, Time=3.38 sec\n",
      " ARIMA(3,0,1)(0,0,0)[0]             : AIC=-37582.642, Time=0.95 sec\n",
      " ARIMA(4,0,2)(0,0,0)[0]             : AIC=-37675.007, Time=3.40 sec\n",
      " ARIMA(4,0,1)(0,0,0)[0]             : AIC=-37689.144, Time=3.15 sec\n",
      " ARIMA(4,0,0)(0,0,0)[0]             : AIC=-37598.075, Time=0.97 sec\n",
      " ARIMA(5,0,1)(0,0,0)[0]             : AIC=-37688.361, Time=4.03 sec\n",
      " ARIMA(3,0,0)(0,0,0)[0]             : AIC=-37584.382, Time=0.83 sec\n",
      " ARIMA(5,0,0)(0,0,0)[0]             : AIC=-37605.038, Time=1.89 sec\n",
      " ARIMA(5,0,2)(0,0,0)[0]             : AIC=-37686.610, Time=4.55 sec\n",
      " ARIMA(4,0,1)(0,0,0)[0] intercept   : AIC=-37685.651, Time=6.12 sec\n",
      "\n",
      "Best model:  ARIMA(4,0,1)(0,0,0)[0]          \n",
      "Total fit time: 34.014 seconds\n",
      "                               SARIMAX Results                                \n",
      "==============================================================================\n",
      "Dep. Variable:                      y   No. Observations:                16463\n",
      "Model:               SARIMAX(4, 0, 1)   Log Likelihood               18850.572\n",
      "Date:                Tue, 11 Feb 2025   AIC                         -37689.144\n",
      "Time:                        11:08:29   BIC                         -37642.890\n",
      "Sample:                    01-03-1962   HQIC                        -37673.867\n",
      "                         - 02-07-2025                                         \n",
      "Covariance Type:                  opg                                         \n",
      "==============================================================================\n",
      "                 coef    std err          z      P>|z|      [0.025      0.975]\n",
      "------------------------------------------------------------------------------\n",
      "ar.L1          0.9726      0.009    110.986      0.000       0.955       0.990\n",
      "ar.L2         -0.0495      0.004    -11.632      0.000      -0.058      -0.041\n",
      "ar.L3         -0.0381      0.004     -8.952      0.000      -0.046      -0.030\n",
      "ar.L4          0.0426      0.003     12.461      0.000       0.036       0.049\n",
      "ma.L1         -0.8853      0.008   -104.234      0.000      -0.902      -0.869\n",
      "sigma2         0.0059   1.69e-05    350.598      0.000       0.006       0.006\n",
      "===================================================================================\n",
      "Ljung-Box (L1) (Q):                   0.00   Jarque-Bera (JB):            572906.69\n",
      "Prob(Q):                              0.96   Prob(JB):                         0.00\n",
      "Heteroskedasticity (H):               0.12   Skew:                            -0.15\n",
      "Prob(H) (two-sided):                  0.00   Kurtosis:                        31.90\n",
      "===================================================================================\n",
      "\n",
      "Warnings:\n",
      "[1] Covariance matrix calculated using the outer product of gradients (complex-step).\n"
     ]
    }
   ],
   "source": [
    "auto_model = auto_arima(df[\"yield\"].diff().dropna(), \n",
    "                        seasonal=False, stepwise=True, trace=True)\n",
    "\n",
    "print(auto_model.summary())"
   ]
  },
  {
   "cell_type": "code",
   "execution_count": null,
   "id": "313e8f68-fb30-4e91-9e40-01ad377dddfc",
   "metadata": {},
   "outputs": [],
   "source": []
  }
 ],
 "metadata": {
  "kernelspec": {
   "display_name": "Python 3 (ipykernel)",
   "language": "python",
   "name": "python3"
  },
  "language_info": {
   "codemirror_mode": {
    "name": "ipython",
    "version": 3
   },
   "file_extension": ".py",
   "mimetype": "text/x-python",
   "name": "python",
   "nbconvert_exporter": "python",
   "pygments_lexer": "ipython3",
   "version": "3.11.6"
  }
 },
 "nbformat": 4,
 "nbformat_minor": 5
}
