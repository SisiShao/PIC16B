{
 "cells": [
  {
   "cell_type": "markdown",
   "id": "f918e8ce-78e9-477e-ad32-3394e1f4dc6a",
   "metadata": {},
   "source": [
    "# SQL Database Pipeline #"
   ]
  },
  {
   "cell_type": "code",
   "execution_count": 4,
   "id": "966e19dc-2567-449c-9635-b4e78867acb2",
   "metadata": {
    "tags": []
   },
   "outputs": [
    {
     "name": "stdout",
     "output_type": "stream",
     "text": [
      "Saved T1M data to treasury_data/T1M_Treasury.csv\n",
      "Saved T3M data to treasury_data/T3M_Treasury.csv\n",
      "Saved T6M data to treasury_data/T6M_Treasury.csv\n",
      "Saved T1Y data to treasury_data/T1Y_Treasury.csv\n",
      "Saved T2Y data to treasury_data/T2Y_Treasury.csv\n",
      "Saved T5Y data to treasury_data/T5Y_Treasury.csv\n",
      "Saved T10Y data to treasury_data/T10Y_Treasury.csv\n",
      "Saved T30Y data to treasury_data/T30Y_Treasury.csv\n"
     ]
    }
   ],
   "source": [
    "import os\n",
    "import pandas as pd\n",
    "import sqlite3\n",
    "from fredapi import Fred\n",
    "\n",
    "# --- 1️⃣ Set Up API Key ---\n",
    "FRED_API_KEY = \"your_api_key\"  # Replace with your actual key\n",
    "fred = Fred(api_key=FRED_API_KEY)\n",
    "\n",
    "# --- 2️⃣ Define Treasury Yield Series ---\n",
    "FRED_SERIES = {\n",
    "    \"T1M\": \"DGS1MO\",\n",
    "    \"T3M\": \"DGS3MO\",\n",
    "    \"T6M\": \"DGS6MO\",\n",
    "    \"T1Y\": \"DGS1\",\n",
    "    \"T2Y\": \"DGS2\",\n",
    "    \"T5Y\": \"DGS5\",\n",
    "    \"T10Y\": \"DGS10\",\n",
    "    \"T30Y\": \"DGS30\",\n",
    "}\n",
    "\n",
    "# --- 3️⃣ Create a Folder for CSVs ---\n",
    "csv_folder = \"treasury_data\"\n",
    "os.makedirs(csv_folder, exist_ok=True)  # Create folder if not exists\n",
    "\n",
    "# --- 4️⃣ Fetch Data and Save Each Maturity as CSV ---\n",
    "for maturity, series_id in FRED_SERIES.items():\n",
    "    df = fred.get_series(series_id).reset_index()\n",
    "    df.columns = [\"date\", \"yield\"]  # Standardize column names\n",
    "    df[\"date\"] = df[\"date\"].astype(str)  # Ensure date is string for SQLite\n",
    "    file_path = os.path.join(csv_folder, f\"{maturity}_Treasury.csv\")\n",
    "    df.to_csv(file_path, index=False)\n",
    "    print(f\"Saved {maturity} data to {file_path}\")"
   ]
  },
  {
   "cell_type": "code",
   "execution_count": 7,
   "id": "43758832-a54c-4feb-9be6-b979619eef78",
   "metadata": {
    "tags": []
   },
   "outputs": [
    {
     "name": "stdout",
     "output_type": "stream",
     "text": [
      "Database update complete.\n"
     ]
    }
   ],
   "source": [
    "# --- 5️⃣ Connect to SQLite Database ---\n",
    "db_path = \"yields.db\"\n",
    "conn = sqlite3.connect(db_path)\n",
    "cursor = conn.cursor()\n",
    "\n",
    "# --- 6️⃣ Drop Table If Needed (Optional - For Debugging) ---\n",
    "cursor.execute(\"DROP TABLE IF EXISTS BondYields\")\n",
    "\n",
    "# --- 7️⃣ Create `BondYields` Table with All Maturities ---\n",
    "columns = [\"date TEXT PRIMARY KEY\"] + [f\"{maturity} REAL\" for maturity in FRED_SERIES.keys()]\n",
    "cursor.execute(f\"\"\"\n",
    "    CREATE TABLE BondYields (\n",
    "        {', '.join(columns)}\n",
    "    )\n",
    "\"\"\")\n",
    "conn.commit()\n",
    "\n",
    "# --- 8️⃣ Import CSVs into SQLite Database ---\n",
    "csv_files = glob.glob(os.path.join(csv_folder, \"*_Treasury.csv\"))\n",
    "\n",
    "for file in csv_files:\n",
    "    maturity = os.path.basename(file).split(\"_\")[0]\n",
    "    df = pd.read_csv(file)\n",
    "    df = df.rename(columns={\"yield\": maturity})  # Rename yield column\n",
    "    df[\"date\"] = pd.to_datetime(df[\"date\"]).dt.strftime(\"%Y-%m-%d\")\n",
    "\n",
    "    # Insert new rows into BondYields\n",
    "    for _, row in df.iterrows():\n",
    "        cursor.execute(f\"\"\"\n",
    "            INSERT OR IGNORE INTO BondYields (date) VALUES (?)\n",
    "        \"\"\", (row[\"date\"],))\n",
    "\n",
    "        cursor.execute(f\"\"\"\n",
    "            UPDATE BondYields\n",
    "            SET {maturity} = ?\n",
    "            WHERE date = ?\n",
    "        \"\"\", (row[maturity], row[\"date\"]))\n",
    "\n",
    "conn.commit()\n",
    "\n",
    "# --- 9️⃣ Optimize Performance ---\n",
    "cursor.execute(\"CREATE INDEX IF NOT EXISTS idx_date ON BondYields(date);\")\n",
    "conn.commit()\n",
    "\n",
    "# --- 🔟 Close the Database Connection ---\n",
    "conn.close()\n",
    "print(\"Database update complete.\")"
   ]
  },
  {
   "cell_type": "code",
   "execution_count": 10,
   "id": "ccdf2767-751e-4cef-bac3-9ab8eb76513f",
   "metadata": {
    "tags": []
   },
   "outputs": [
    {
     "data": {
      "text/html": [
       "<div>\n",
       "<style scoped>\n",
       "    .dataframe tbody tr th:only-of-type {\n",
       "        vertical-align: middle;\n",
       "    }\n",
       "\n",
       "    .dataframe tbody tr th {\n",
       "        vertical-align: top;\n",
       "    }\n",
       "\n",
       "    .dataframe thead th {\n",
       "        text-align: right;\n",
       "    }\n",
       "</style>\n",
       "<table border=\"1\" class=\"dataframe\">\n",
       "  <thead>\n",
       "    <tr style=\"text-align: right;\">\n",
       "      <th></th>\n",
       "      <th>date</th>\n",
       "      <th>maturity</th>\n",
       "      <th>yield</th>\n",
       "    </tr>\n",
       "  </thead>\n",
       "  <tbody>\n",
       "    <tr>\n",
       "      <th>6380</th>\n",
       "      <td>2001-07-31</td>\n",
       "      <td>T1M</td>\n",
       "      <td>3.67</td>\n",
       "    </tr>\n",
       "    <tr>\n",
       "      <th>6381</th>\n",
       "      <td>2001-08-01</td>\n",
       "      <td>T1M</td>\n",
       "      <td>3.65</td>\n",
       "    </tr>\n",
       "    <tr>\n",
       "      <th>6382</th>\n",
       "      <td>2001-08-02</td>\n",
       "      <td>T1M</td>\n",
       "      <td>3.65</td>\n",
       "    </tr>\n",
       "    <tr>\n",
       "      <th>6383</th>\n",
       "      <td>2001-08-03</td>\n",
       "      <td>T1M</td>\n",
       "      <td>3.63</td>\n",
       "    </tr>\n",
       "    <tr>\n",
       "      <th>6384</th>\n",
       "      <td>2001-08-06</td>\n",
       "      <td>T1M</td>\n",
       "      <td>3.62</td>\n",
       "    </tr>\n",
       "    <tr>\n",
       "      <th>...</th>\n",
       "      <td>...</td>\n",
       "      <td>...</td>\n",
       "      <td>...</td>\n",
       "    </tr>\n",
       "    <tr>\n",
       "      <th>127746</th>\n",
       "      <td>2025-01-30</td>\n",
       "      <td>T30Y</td>\n",
       "      <td>4.76</td>\n",
       "    </tr>\n",
       "    <tr>\n",
       "      <th>127747</th>\n",
       "      <td>2025-01-31</td>\n",
       "      <td>T30Y</td>\n",
       "      <td>4.83</td>\n",
       "    </tr>\n",
       "    <tr>\n",
       "      <th>127748</th>\n",
       "      <td>2025-02-03</td>\n",
       "      <td>T30Y</td>\n",
       "      <td>4.77</td>\n",
       "    </tr>\n",
       "    <tr>\n",
       "      <th>127749</th>\n",
       "      <td>2025-02-04</td>\n",
       "      <td>T30Y</td>\n",
       "      <td>4.75</td>\n",
       "    </tr>\n",
       "    <tr>\n",
       "      <th>127750</th>\n",
       "      <td>2025-02-05</td>\n",
       "      <td>T30Y</td>\n",
       "      <td>4.64</td>\n",
       "    </tr>\n",
       "  </tbody>\n",
       "</table>\n",
       "<p>99028 rows × 3 columns</p>\n",
       "</div>"
      ],
      "text/plain": [
       "              date maturity  yield\n",
       "6380    2001-07-31      T1M   3.67\n",
       "6381    2001-08-01      T1M   3.65\n",
       "6382    2001-08-02      T1M   3.65\n",
       "6383    2001-08-03      T1M   3.63\n",
       "6384    2001-08-06      T1M   3.62\n",
       "...            ...      ...    ...\n",
       "127746  2025-01-30     T30Y   4.76\n",
       "127747  2025-01-31     T30Y   4.83\n",
       "127748  2025-02-03     T30Y   4.77\n",
       "127749  2025-02-04     T30Y   4.75\n",
       "127750  2025-02-05     T30Y   4.64\n",
       "\n",
       "[99028 rows x 3 columns]"
      ]
     },
     "metadata": {},
     "output_type": "display_data"
    }
   ],
   "source": [
    "# --- 9️⃣ Load and Melt the Data ---\n",
    "conn = sqlite3.connect(db_path)\n",
    "\n",
    "# Load the BondYields table\n",
    "df = pd.read_sql(\"SELECT * FROM BondYields\", conn)\n",
    "\n",
    "# Melt into long format\n",
    "melted_df = df.melt(id_vars=[\"date\"], var_name=\"maturity\", value_name=\"yield\")\n",
    "\n",
    "melted_df = melted_df.dropna()\n",
    "\n",
    "# Display the DataFrame (Choose one method)\n",
    "display(melted_df)  # Works in Jupyter Notebook\n",
    "# print(melted_df.head())  # Use this for terminal output\n",
    "# melted_df.to_csv(\"melted_yield_data.csv\", index=False)  # Save to CSV\n",
    "\n",
    "conn.close()"
   ]
  },
  {
   "cell_type": "code",
   "execution_count": 32,
   "id": "b9aa6ca4-91c9-459e-84f9-a52243929850",
   "metadata": {
    "tags": []
   },
   "outputs": [
    {
     "data": {
      "text/html": [
       "<div>\n",
       "<style scoped>\n",
       "    .dataframe tbody tr th:only-of-type {\n",
       "        vertical-align: middle;\n",
       "    }\n",
       "\n",
       "    .dataframe tbody tr th {\n",
       "        vertical-align: top;\n",
       "    }\n",
       "\n",
       "    .dataframe thead th {\n",
       "        text-align: right;\n",
       "    }\n",
       "</style>\n",
       "<table border=\"1\" class=\"dataframe\">\n",
       "  <thead>\n",
       "    <tr style=\"text-align: right;\">\n",
       "      <th></th>\n",
       "      <th>date</th>\n",
       "      <th>maturity</th>\n",
       "      <th>yield</th>\n",
       "    </tr>\n",
       "  </thead>\n",
       "  <tbody>\n",
       "    <tr>\n",
       "      <th>0</th>\n",
       "      <td>2001-07-31</td>\n",
       "      <td>T1M</td>\n",
       "      <td>3.67</td>\n",
       "    </tr>\n",
       "    <tr>\n",
       "      <th>1</th>\n",
       "      <td>2001-08-01</td>\n",
       "      <td>T1M</td>\n",
       "      <td>3.65</td>\n",
       "    </tr>\n",
       "    <tr>\n",
       "      <th>2</th>\n",
       "      <td>2001-08-02</td>\n",
       "      <td>T1M</td>\n",
       "      <td>3.65</td>\n",
       "    </tr>\n",
       "    <tr>\n",
       "      <th>3</th>\n",
       "      <td>2001-08-03</td>\n",
       "      <td>T1M</td>\n",
       "      <td>3.63</td>\n",
       "    </tr>\n",
       "    <tr>\n",
       "      <th>4</th>\n",
       "      <td>2001-08-06</td>\n",
       "      <td>T1M</td>\n",
       "      <td>3.62</td>\n",
       "    </tr>\n",
       "    <tr>\n",
       "      <th>...</th>\n",
       "      <td>...</td>\n",
       "      <td>...</td>\n",
       "      <td>...</td>\n",
       "    </tr>\n",
       "    <tr>\n",
       "      <th>47043</th>\n",
       "      <td>2025-01-30</td>\n",
       "      <td>T30Y</td>\n",
       "      <td>4.76</td>\n",
       "    </tr>\n",
       "    <tr>\n",
       "      <th>47044</th>\n",
       "      <td>2025-01-31</td>\n",
       "      <td>T30Y</td>\n",
       "      <td>4.83</td>\n",
       "    </tr>\n",
       "    <tr>\n",
       "      <th>47045</th>\n",
       "      <td>2025-02-03</td>\n",
       "      <td>T30Y</td>\n",
       "      <td>4.77</td>\n",
       "    </tr>\n",
       "    <tr>\n",
       "      <th>47046</th>\n",
       "      <td>2025-02-04</td>\n",
       "      <td>T30Y</td>\n",
       "      <td>4.75</td>\n",
       "    </tr>\n",
       "    <tr>\n",
       "      <th>47047</th>\n",
       "      <td>2025-02-05</td>\n",
       "      <td>T30Y</td>\n",
       "      <td>4.64</td>\n",
       "    </tr>\n",
       "  </tbody>\n",
       "</table>\n",
       "<p>47048 rows × 3 columns</p>\n",
       "</div>"
      ],
      "text/plain": [
       "             date maturity  yield\n",
       "0      2001-07-31      T1M   3.67\n",
       "1      2001-08-01      T1M   3.65\n",
       "2      2001-08-02      T1M   3.65\n",
       "3      2001-08-03      T1M   3.63\n",
       "4      2001-08-06      T1M   3.62\n",
       "...           ...      ...    ...\n",
       "47043  2025-01-30     T30Y   4.76\n",
       "47044  2025-01-31     T30Y   4.83\n",
       "47045  2025-02-03     T30Y   4.77\n",
       "47046  2025-02-04     T30Y   4.75\n",
       "47047  2025-02-05     T30Y   4.64\n",
       "\n",
       "[47048 rows x 3 columns]"
      ]
     },
     "execution_count": 32,
     "metadata": {},
     "output_type": "execute_result"
    }
   ],
   "source": [
    "with sqlite3.connect(\"yields.db\") as conn:\n",
    "    df = pd.read_sql_query('SELECT * FROM BondYields;', conn)\n",
    "    df = df.dropna()\n",
    "    df = df.melt(id_vars=[\"date\"], var_name=\"maturity\", value_name=\"yield\")\n",
    "df"
   ]
  },
  {
   "cell_type": "code",
   "execution_count": null,
   "id": "f276f5d0-740f-4871-87bd-65ed8bfe7192",
   "metadata": {
    "tags": []
   },
   "outputs": [],
   "source": []
  },
  {
   "cell_type": "code",
   "execution_count": 25,
   "id": "21023dd9-1bb6-46b7-8d06-836653e1720b",
   "metadata": {
    "tags": []
   },
   "outputs": [],
   "source": [
    "import plotly.express as px"
   ]
  },
  {
   "cell_type": "code",
   "execution_count": 33,
   "id": "a418b193-1692-40b7-bee5-3898d9f5b175",
   "metadata": {
    "tags": []
   },
   "outputs": [],
   "source": [
    "def query_yield_curve(db_file, start_date, end_date):\n",
    "    conn = sqlite3.connect(db_file)\n",
    "    \n",
    "    # Writes the SQL query using f-strings\n",
    "    query = f\"\"\"\n",
    "        SELECT *\n",
    "        FROM BondYields\n",
    "        WHERE date BETWEEN '{start_date}' AND '{end_date}'\n",
    "    \"\"\"\n",
    "    \n",
    "    df=pd.read_sql_query(query, conn)\n",
    "    df = df.dropna()\n",
    "    df = df.melt(id_vars=[\"date\"], var_name=\"maturity\", value_name=\"yield\")\n",
    "    conn.close()\n",
    "    \n",
    "    return df"
   ]
  },
  {
   "cell_type": "code",
   "execution_count": 34,
   "id": "7a55a0fb-04ab-4a60-87ed-182feefc0080",
   "metadata": {
    "tags": []
   },
   "outputs": [],
   "source": [
    "def plot_yields(db_file, start_date, end_date):\n",
    "    \n",
    "    df = query_yield_curve(db_file, start_date, end_date)\n",
    "    \n",
    "    fig = px.line(df, x=\"maturity\", y=\"yield\", color=\"date\",\n",
    "                  title=f\"Treasury Yield Curve ({start_date} to {end_date})\",\n",
    "                  labels={\"maturity\": \"Maturity\", \"yield\": \"Yield (%)\"},\n",
    "                  markers=True)\n",
    "    \n",
    "    return fig"
   ]
  },
  {
   "cell_type": "code",
   "execution_count": 38,
   "id": "4d8f0a63-1cdd-4cbd-bead-8176c15e76e7",
   "metadata": {
    "tags": []
   },
   "outputs": [
    {
     "data": {
      "application/vnd.plotly.v1+json": {
       "config": {
        "plotlyServerURL": "https://plot.ly"
       },
       "data": [
        {
         "hovertemplate": "date=2025-01-02<br>Maturity=%{x}<br>Yield (%)=%{y}<extra></extra>",
         "legendgroup": "2025-01-02",
         "line": {
          "color": "#636efa",
          "dash": "solid"
         },
         "marker": {
          "symbol": "circle"
         },
         "mode": "markers+lines",
         "name": "2025-01-02",
         "orientation": "v",
         "showlegend": true,
         "type": "scatter",
         "x": [
          "T1M",
          "T3M",
          "T6M",
          "T1Y",
          "T2Y",
          "T5Y",
          "T10Y",
          "T30Y"
         ],
         "xaxis": "x",
         "y": [
          4.45,
          4.36,
          4.25,
          4.17,
          4.25,
          4.38,
          4.57,
          4.79
         ],
         "yaxis": "y"
        },
        {
         "hovertemplate": "date=2025-01-03<br>Maturity=%{x}<br>Yield (%)=%{y}<extra></extra>",
         "legendgroup": "2025-01-03",
         "line": {
          "color": "#EF553B",
          "dash": "solid"
         },
         "marker": {
          "symbol": "circle"
         },
         "mode": "markers+lines",
         "name": "2025-01-03",
         "orientation": "v",
         "showlegend": true,
         "type": "scatter",
         "x": [
          "T1M",
          "T3M",
          "T6M",
          "T1Y",
          "T2Y",
          "T5Y",
          "T10Y",
          "T30Y"
         ],
         "xaxis": "x",
         "y": [
          4.44,
          4.34,
          4.25,
          4.18,
          4.28,
          4.41,
          4.6,
          4.82
         ],
         "yaxis": "y"
        },
        {
         "hovertemplate": "date=2025-01-06<br>Maturity=%{x}<br>Yield (%)=%{y}<extra></extra>",
         "legendgroup": "2025-01-06",
         "line": {
          "color": "#00cc96",
          "dash": "solid"
         },
         "marker": {
          "symbol": "circle"
         },
         "mode": "markers+lines",
         "name": "2025-01-06",
         "orientation": "v",
         "showlegend": true,
         "type": "scatter",
         "x": [
          "T1M",
          "T3M",
          "T6M",
          "T1Y",
          "T2Y",
          "T5Y",
          "T10Y",
          "T30Y"
         ],
         "xaxis": "x",
         "y": [
          4.43,
          4.35,
          4.24,
          4.17,
          4.28,
          4.42,
          4.62,
          4.85
         ],
         "yaxis": "y"
        },
        {
         "hovertemplate": "date=2025-01-07<br>Maturity=%{x}<br>Yield (%)=%{y}<extra></extra>",
         "legendgroup": "2025-01-07",
         "line": {
          "color": "#ab63fa",
          "dash": "solid"
         },
         "marker": {
          "symbol": "circle"
         },
         "mode": "markers+lines",
         "name": "2025-01-07",
         "orientation": "v",
         "showlegend": true,
         "type": "scatter",
         "x": [
          "T1M",
          "T3M",
          "T6M",
          "T1Y",
          "T2Y",
          "T5Y",
          "T10Y",
          "T30Y"
         ],
         "xaxis": "x",
         "y": [
          4.42,
          4.35,
          4.24,
          4.19,
          4.3,
          4.46,
          4.67,
          4.91
         ],
         "yaxis": "y"
        },
        {
         "hovertemplate": "date=2025-01-08<br>Maturity=%{x}<br>Yield (%)=%{y}<extra></extra>",
         "legendgroup": "2025-01-08",
         "line": {
          "color": "#FFA15A",
          "dash": "solid"
         },
         "marker": {
          "symbol": "circle"
         },
         "mode": "markers+lines",
         "name": "2025-01-08",
         "orientation": "v",
         "showlegend": true,
         "type": "scatter",
         "x": [
          "T1M",
          "T3M",
          "T6M",
          "T1Y",
          "T2Y",
          "T5Y",
          "T10Y",
          "T30Y"
         ],
         "xaxis": "x",
         "y": [
          4.41,
          4.35,
          4.25,
          4.19,
          4.28,
          4.45,
          4.67,
          4.91
         ],
         "yaxis": "y"
        },
        {
         "hovertemplate": "date=2025-01-09<br>Maturity=%{x}<br>Yield (%)=%{y}<extra></extra>",
         "legendgroup": "2025-01-09",
         "line": {
          "color": "#19d3f3",
          "dash": "solid"
         },
         "marker": {
          "symbol": "circle"
         },
         "mode": "markers+lines",
         "name": "2025-01-09",
         "orientation": "v",
         "showlegend": true,
         "type": "scatter",
         "x": [
          "T1M",
          "T3M",
          "T6M",
          "T1Y",
          "T2Y",
          "T5Y",
          "T10Y",
          "T30Y"
         ],
         "xaxis": "x",
         "y": [
          4.44,
          4.35,
          4.24,
          4.16,
          4.27,
          4.46,
          4.68,
          4.92
         ],
         "yaxis": "y"
        },
        {
         "hovertemplate": "date=2025-01-10<br>Maturity=%{x}<br>Yield (%)=%{y}<extra></extra>",
         "legendgroup": "2025-01-10",
         "line": {
          "color": "#FF6692",
          "dash": "solid"
         },
         "marker": {
          "symbol": "circle"
         },
         "mode": "markers+lines",
         "name": "2025-01-10",
         "orientation": "v",
         "showlegend": true,
         "type": "scatter",
         "x": [
          "T1M",
          "T3M",
          "T6M",
          "T1Y",
          "T2Y",
          "T5Y",
          "T10Y",
          "T30Y"
         ],
         "xaxis": "x",
         "y": [
          4.42,
          4.36,
          4.27,
          4.25,
          4.4,
          4.59,
          4.77,
          4.96
         ],
         "yaxis": "y"
        },
        {
         "hovertemplate": "date=2025-01-13<br>Maturity=%{x}<br>Yield (%)=%{y}<extra></extra>",
         "legendgroup": "2025-01-13",
         "line": {
          "color": "#B6E880",
          "dash": "solid"
         },
         "marker": {
          "symbol": "circle"
         },
         "mode": "markers+lines",
         "name": "2025-01-13",
         "orientation": "v",
         "showlegend": true,
         "type": "scatter",
         "x": [
          "T1M",
          "T3M",
          "T6M",
          "T1Y",
          "T2Y",
          "T5Y",
          "T10Y",
          "T30Y"
         ],
         "xaxis": "x",
         "y": [
          4.42,
          4.37,
          4.3,
          4.24,
          4.4,
          4.61,
          4.79,
          4.97
         ],
         "yaxis": "y"
        },
        {
         "hovertemplate": "date=2025-01-14<br>Maturity=%{x}<br>Yield (%)=%{y}<extra></extra>",
         "legendgroup": "2025-01-14",
         "line": {
          "color": "#FF97FF",
          "dash": "solid"
         },
         "marker": {
          "symbol": "circle"
         },
         "mode": "markers+lines",
         "name": "2025-01-14",
         "orientation": "v",
         "showlegend": true,
         "type": "scatter",
         "x": [
          "T1M",
          "T3M",
          "T6M",
          "T1Y",
          "T2Y",
          "T5Y",
          "T10Y",
          "T30Y"
         ],
         "xaxis": "x",
         "y": [
          4.42,
          4.36,
          4.29,
          4.22,
          4.37,
          4.59,
          4.78,
          4.98
         ],
         "yaxis": "y"
        },
        {
         "hovertemplate": "date=2025-01-15<br>Maturity=%{x}<br>Yield (%)=%{y}<extra></extra>",
         "legendgroup": "2025-01-15",
         "line": {
          "color": "#FECB52",
          "dash": "solid"
         },
         "marker": {
          "symbol": "circle"
         },
         "mode": "markers+lines",
         "name": "2025-01-15",
         "orientation": "v",
         "showlegend": true,
         "type": "scatter",
         "x": [
          "T1M",
          "T3M",
          "T6M",
          "T1Y",
          "T2Y",
          "T5Y",
          "T10Y",
          "T30Y"
         ],
         "xaxis": "x",
         "y": [
          4.4,
          4.35,
          4.26,
          4.19,
          4.27,
          4.45,
          4.66,
          4.88
         ],
         "yaxis": "y"
        },
        {
         "hovertemplate": "date=2025-01-16<br>Maturity=%{x}<br>Yield (%)=%{y}<extra></extra>",
         "legendgroup": "2025-01-16",
         "line": {
          "color": "#636efa",
          "dash": "solid"
         },
         "marker": {
          "symbol": "circle"
         },
         "mode": "markers+lines",
         "name": "2025-01-16",
         "orientation": "v",
         "showlegend": true,
         "type": "scatter",
         "x": [
          "T1M",
          "T3M",
          "T6M",
          "T1Y",
          "T2Y",
          "T5Y",
          "T10Y",
          "T30Y"
         ],
         "xaxis": "x",
         "y": [
          4.43,
          4.34,
          4.26,
          4.18,
          4.23,
          4.39,
          4.61,
          4.84
         ],
         "yaxis": "y"
        },
        {
         "hovertemplate": "date=2025-01-17<br>Maturity=%{x}<br>Yield (%)=%{y}<extra></extra>",
         "legendgroup": "2025-01-17",
         "line": {
          "color": "#EF553B",
          "dash": "solid"
         },
         "marker": {
          "symbol": "circle"
         },
         "mode": "markers+lines",
         "name": "2025-01-17",
         "orientation": "v",
         "showlegend": true,
         "type": "scatter",
         "x": [
          "T1M",
          "T3M",
          "T6M",
          "T1Y",
          "T2Y",
          "T5Y",
          "T10Y",
          "T30Y"
         ],
         "xaxis": "x",
         "y": [
          4.43,
          4.34,
          4.28,
          4.21,
          4.27,
          4.42,
          4.61,
          4.84
         ],
         "yaxis": "y"
        },
        {
         "hovertemplate": "date=2025-01-21<br>Maturity=%{x}<br>Yield (%)=%{y}<extra></extra>",
         "legendgroup": "2025-01-21",
         "line": {
          "color": "#00cc96",
          "dash": "solid"
         },
         "marker": {
          "symbol": "circle"
         },
         "mode": "markers+lines",
         "name": "2025-01-21",
         "orientation": "v",
         "showlegend": true,
         "type": "scatter",
         "x": [
          "T1M",
          "T3M",
          "T6M",
          "T1Y",
          "T2Y",
          "T5Y",
          "T10Y",
          "T30Y"
         ],
         "xaxis": "x",
         "y": [
          4.42,
          4.36,
          4.28,
          4.21,
          4.29,
          4.4,
          4.57,
          4.8
         ],
         "yaxis": "y"
        },
        {
         "hovertemplate": "date=2025-01-22<br>Maturity=%{x}<br>Yield (%)=%{y}<extra></extra>",
         "legendgroup": "2025-01-22",
         "line": {
          "color": "#ab63fa",
          "dash": "solid"
         },
         "marker": {
          "symbol": "circle"
         },
         "mode": "markers+lines",
         "name": "2025-01-22",
         "orientation": "v",
         "showlegend": true,
         "type": "scatter",
         "x": [
          "T1M",
          "T3M",
          "T6M",
          "T1Y",
          "T2Y",
          "T5Y",
          "T10Y",
          "T30Y"
         ],
         "xaxis": "x",
         "y": [
          4.42,
          4.36,
          4.28,
          4.2,
          4.29,
          4.43,
          4.6,
          4.82
         ],
         "yaxis": "y"
        },
        {
         "hovertemplate": "date=2025-01-23<br>Maturity=%{x}<br>Yield (%)=%{y}<extra></extra>",
         "legendgroup": "2025-01-23",
         "line": {
          "color": "#FFA15A",
          "dash": "solid"
         },
         "marker": {
          "symbol": "circle"
         },
         "mode": "markers+lines",
         "name": "2025-01-23",
         "orientation": "v",
         "showlegend": true,
         "type": "scatter",
         "x": [
          "T1M",
          "T3M",
          "T6M",
          "T1Y",
          "T2Y",
          "T5Y",
          "T10Y",
          "T30Y"
         ],
         "xaxis": "x",
         "y": [
          4.45,
          4.36,
          4.27,
          4.18,
          4.29,
          4.45,
          4.65,
          4.87
         ],
         "yaxis": "y"
        },
        {
         "hovertemplate": "date=2025-01-24<br>Maturity=%{x}<br>Yield (%)=%{y}<extra></extra>",
         "legendgroup": "2025-01-24",
         "line": {
          "color": "#19d3f3",
          "dash": "solid"
         },
         "marker": {
          "symbol": "circle"
         },
         "mode": "markers+lines",
         "name": "2025-01-24",
         "orientation": "v",
         "showlegend": true,
         "type": "scatter",
         "x": [
          "T1M",
          "T3M",
          "T6M",
          "T1Y",
          "T2Y",
          "T5Y",
          "T10Y",
          "T30Y"
         ],
         "xaxis": "x",
         "y": [
          4.45,
          4.35,
          4.25,
          4.17,
          4.27,
          4.43,
          4.63,
          4.85
         ],
         "yaxis": "y"
        },
        {
         "hovertemplate": "date=2025-01-27<br>Maturity=%{x}<br>Yield (%)=%{y}<extra></extra>",
         "legendgroup": "2025-01-27",
         "line": {
          "color": "#FF6692",
          "dash": "solid"
         },
         "marker": {
          "symbol": "circle"
         },
         "mode": "markers+lines",
         "name": "2025-01-27",
         "orientation": "v",
         "showlegend": true,
         "type": "scatter",
         "x": [
          "T1M",
          "T3M",
          "T6M",
          "T1Y",
          "T2Y",
          "T5Y",
          "T10Y",
          "T30Y"
         ],
         "xaxis": "x",
         "y": [
          4.44,
          4.32,
          4.25,
          4.13,
          4.17,
          4.32,
          4.53,
          4.76
         ],
         "yaxis": "y"
        },
        {
         "hovertemplate": "date=2025-01-28<br>Maturity=%{x}<br>Yield (%)=%{y}<extra></extra>",
         "legendgroup": "2025-01-28",
         "line": {
          "color": "#B6E880",
          "dash": "solid"
         },
         "marker": {
          "symbol": "circle"
         },
         "mode": "markers+lines",
         "name": "2025-01-28",
         "orientation": "v",
         "showlegend": true,
         "type": "scatter",
         "x": [
          "T1M",
          "T3M",
          "T6M",
          "T1Y",
          "T2Y",
          "T5Y",
          "T10Y",
          "T30Y"
         ],
         "xaxis": "x",
         "y": [
          4.44,
          4.31,
          4.26,
          4.14,
          4.19,
          4.33,
          4.55,
          4.78
         ],
         "yaxis": "y"
        },
        {
         "hovertemplate": "date=2025-01-29<br>Maturity=%{x}<br>Yield (%)=%{y}<extra></extra>",
         "legendgroup": "2025-01-29",
         "line": {
          "color": "#FF97FF",
          "dash": "solid"
         },
         "marker": {
          "symbol": "circle"
         },
         "mode": "markers+lines",
         "name": "2025-01-29",
         "orientation": "v",
         "showlegend": true,
         "type": "scatter",
         "x": [
          "T1M",
          "T3M",
          "T6M",
          "T1Y",
          "T2Y",
          "T5Y",
          "T10Y",
          "T30Y"
         ],
         "xaxis": "x",
         "y": [
          4.43,
          4.31,
          4.27,
          4.17,
          4.21,
          4.35,
          4.55,
          4.79
         ],
         "yaxis": "y"
        },
        {
         "hovertemplate": "date=2025-01-30<br>Maturity=%{x}<br>Yield (%)=%{y}<extra></extra>",
         "legendgroup": "2025-01-30",
         "line": {
          "color": "#FECB52",
          "dash": "solid"
         },
         "marker": {
          "symbol": "circle"
         },
         "mode": "markers+lines",
         "name": "2025-01-30",
         "orientation": "v",
         "showlegend": true,
         "type": "scatter",
         "x": [
          "T1M",
          "T3M",
          "T6M",
          "T1Y",
          "T2Y",
          "T5Y",
          "T10Y",
          "T30Y"
         ],
         "xaxis": "x",
         "y": [
          4.37,
          4.3,
          4.27,
          4.16,
          4.18,
          4.31,
          4.52,
          4.76
         ],
         "yaxis": "y"
        },
        {
         "hovertemplate": "date=2025-01-31<br>Maturity=%{x}<br>Yield (%)=%{y}<extra></extra>",
         "legendgroup": "2025-01-31",
         "line": {
          "color": "#636efa",
          "dash": "solid"
         },
         "marker": {
          "symbol": "circle"
         },
         "mode": "markers+lines",
         "name": "2025-01-31",
         "orientation": "v",
         "showlegend": true,
         "type": "scatter",
         "x": [
          "T1M",
          "T3M",
          "T6M",
          "T1Y",
          "T2Y",
          "T5Y",
          "T10Y",
          "T30Y"
         ],
         "xaxis": "x",
         "y": [
          4.37,
          4.31,
          4.28,
          4.17,
          4.22,
          4.36,
          4.58,
          4.83
         ],
         "yaxis": "y"
        },
        {
         "hovertemplate": "date=2025-02-03<br>Maturity=%{x}<br>Yield (%)=%{y}<extra></extra>",
         "legendgroup": "2025-02-03",
         "line": {
          "color": "#EF553B",
          "dash": "solid"
         },
         "marker": {
          "symbol": "circle"
         },
         "mode": "markers+lines",
         "name": "2025-02-03",
         "orientation": "v",
         "showlegend": true,
         "type": "scatter",
         "x": [
          "T1M",
          "T3M",
          "T6M",
          "T1Y",
          "T2Y",
          "T5Y",
          "T10Y",
          "T30Y"
         ],
         "xaxis": "x",
         "y": [
          4.37,
          4.34,
          4.28,
          4.2,
          4.26,
          4.35,
          4.54,
          4.77
         ],
         "yaxis": "y"
        },
        {
         "hovertemplate": "date=2025-02-04<br>Maturity=%{x}<br>Yield (%)=%{y}<extra></extra>",
         "legendgroup": "2025-02-04",
         "line": {
          "color": "#00cc96",
          "dash": "solid"
         },
         "marker": {
          "symbol": "circle"
         },
         "mode": "markers+lines",
         "name": "2025-02-04",
         "orientation": "v",
         "showlegend": true,
         "type": "scatter",
         "x": [
          "T1M",
          "T3M",
          "T6M",
          "T1Y",
          "T2Y",
          "T5Y",
          "T10Y",
          "T30Y"
         ],
         "xaxis": "x",
         "y": [
          4.36,
          4.33,
          4.27,
          4.18,
          4.21,
          4.31,
          4.52,
          4.75
         ],
         "yaxis": "y"
        },
        {
         "hovertemplate": "date=2025-02-05<br>Maturity=%{x}<br>Yield (%)=%{y}<extra></extra>",
         "legendgroup": "2025-02-05",
         "line": {
          "color": "#ab63fa",
          "dash": "solid"
         },
         "marker": {
          "symbol": "circle"
         },
         "mode": "markers+lines",
         "name": "2025-02-05",
         "orientation": "v",
         "showlegend": true,
         "type": "scatter",
         "x": [
          "T1M",
          "T3M",
          "T6M",
          "T1Y",
          "T2Y",
          "T5Y",
          "T10Y",
          "T30Y"
         ],
         "xaxis": "x",
         "y": [
          4.35,
          4.33,
          4.27,
          4.17,
          4.17,
          4.24,
          4.43,
          4.64
         ],
         "yaxis": "y"
        }
       ],
       "layout": {
        "autosize": true,
        "legend": {
         "title": {
          "text": "date"
         },
         "tracegroupgap": 0
        },
        "template": {
         "data": {
          "bar": [
           {
            "error_x": {
             "color": "#2a3f5f"
            },
            "error_y": {
             "color": "#2a3f5f"
            },
            "marker": {
             "line": {
              "color": "#E5ECF6",
              "width": 0.5
             },
             "pattern": {
              "fillmode": "overlay",
              "size": 10,
              "solidity": 0.2
             }
            },
            "type": "bar"
           }
          ],
          "barpolar": [
           {
            "marker": {
             "line": {
              "color": "#E5ECF6",
              "width": 0.5
             },
             "pattern": {
              "fillmode": "overlay",
              "size": 10,
              "solidity": 0.2
             }
            },
            "type": "barpolar"
           }
          ],
          "carpet": [
           {
            "aaxis": {
             "endlinecolor": "#2a3f5f",
             "gridcolor": "white",
             "linecolor": "white",
             "minorgridcolor": "white",
             "startlinecolor": "#2a3f5f"
            },
            "baxis": {
             "endlinecolor": "#2a3f5f",
             "gridcolor": "white",
             "linecolor": "white",
             "minorgridcolor": "white",
             "startlinecolor": "#2a3f5f"
            },
            "type": "carpet"
           }
          ],
          "choropleth": [
           {
            "colorbar": {
             "outlinewidth": 0,
             "ticks": ""
            },
            "type": "choropleth"
           }
          ],
          "contour": [
           {
            "colorbar": {
             "outlinewidth": 0,
             "ticks": ""
            },
            "colorscale": [
             [
              0,
              "#0d0887"
             ],
             [
              0.1111111111111111,
              "#46039f"
             ],
             [
              0.2222222222222222,
              "#7201a8"
             ],
             [
              0.3333333333333333,
              "#9c179e"
             ],
             [
              0.4444444444444444,
              "#bd3786"
             ],
             [
              0.5555555555555556,
              "#d8576b"
             ],
             [
              0.6666666666666666,
              "#ed7953"
             ],
             [
              0.7777777777777778,
              "#fb9f3a"
             ],
             [
              0.8888888888888888,
              "#fdca26"
             ],
             [
              1,
              "#f0f921"
             ]
            ],
            "type": "contour"
           }
          ],
          "contourcarpet": [
           {
            "colorbar": {
             "outlinewidth": 0,
             "ticks": ""
            },
            "type": "contourcarpet"
           }
          ],
          "heatmap": [
           {
            "colorbar": {
             "outlinewidth": 0,
             "ticks": ""
            },
            "colorscale": [
             [
              0,
              "#0d0887"
             ],
             [
              0.1111111111111111,
              "#46039f"
             ],
             [
              0.2222222222222222,
              "#7201a8"
             ],
             [
              0.3333333333333333,
              "#9c179e"
             ],
             [
              0.4444444444444444,
              "#bd3786"
             ],
             [
              0.5555555555555556,
              "#d8576b"
             ],
             [
              0.6666666666666666,
              "#ed7953"
             ],
             [
              0.7777777777777778,
              "#fb9f3a"
             ],
             [
              0.8888888888888888,
              "#fdca26"
             ],
             [
              1,
              "#f0f921"
             ]
            ],
            "type": "heatmap"
           }
          ],
          "heatmapgl": [
           {
            "colorbar": {
             "outlinewidth": 0,
             "ticks": ""
            },
            "colorscale": [
             [
              0,
              "#0d0887"
             ],
             [
              0.1111111111111111,
              "#46039f"
             ],
             [
              0.2222222222222222,
              "#7201a8"
             ],
             [
              0.3333333333333333,
              "#9c179e"
             ],
             [
              0.4444444444444444,
              "#bd3786"
             ],
             [
              0.5555555555555556,
              "#d8576b"
             ],
             [
              0.6666666666666666,
              "#ed7953"
             ],
             [
              0.7777777777777778,
              "#fb9f3a"
             ],
             [
              0.8888888888888888,
              "#fdca26"
             ],
             [
              1,
              "#f0f921"
             ]
            ],
            "type": "heatmapgl"
           }
          ],
          "histogram": [
           {
            "marker": {
             "pattern": {
              "fillmode": "overlay",
              "size": 10,
              "solidity": 0.2
             }
            },
            "type": "histogram"
           }
          ],
          "histogram2d": [
           {
            "colorbar": {
             "outlinewidth": 0,
             "ticks": ""
            },
            "colorscale": [
             [
              0,
              "#0d0887"
             ],
             [
              0.1111111111111111,
              "#46039f"
             ],
             [
              0.2222222222222222,
              "#7201a8"
             ],
             [
              0.3333333333333333,
              "#9c179e"
             ],
             [
              0.4444444444444444,
              "#bd3786"
             ],
             [
              0.5555555555555556,
              "#d8576b"
             ],
             [
              0.6666666666666666,
              "#ed7953"
             ],
             [
              0.7777777777777778,
              "#fb9f3a"
             ],
             [
              0.8888888888888888,
              "#fdca26"
             ],
             [
              1,
              "#f0f921"
             ]
            ],
            "type": "histogram2d"
           }
          ],
          "histogram2dcontour": [
           {
            "colorbar": {
             "outlinewidth": 0,
             "ticks": ""
            },
            "colorscale": [
             [
              0,
              "#0d0887"
             ],
             [
              0.1111111111111111,
              "#46039f"
             ],
             [
              0.2222222222222222,
              "#7201a8"
             ],
             [
              0.3333333333333333,
              "#9c179e"
             ],
             [
              0.4444444444444444,
              "#bd3786"
             ],
             [
              0.5555555555555556,
              "#d8576b"
             ],
             [
              0.6666666666666666,
              "#ed7953"
             ],
             [
              0.7777777777777778,
              "#fb9f3a"
             ],
             [
              0.8888888888888888,
              "#fdca26"
             ],
             [
              1,
              "#f0f921"
             ]
            ],
            "type": "histogram2dcontour"
           }
          ],
          "mesh3d": [
           {
            "colorbar": {
             "outlinewidth": 0,
             "ticks": ""
            },
            "type": "mesh3d"
           }
          ],
          "parcoords": [
           {
            "line": {
             "colorbar": {
              "outlinewidth": 0,
              "ticks": ""
             }
            },
            "type": "parcoords"
           }
          ],
          "pie": [
           {
            "automargin": true,
            "type": "pie"
           }
          ],
          "scatter": [
           {
            "fillpattern": {
             "fillmode": "overlay",
             "size": 10,
             "solidity": 0.2
            },
            "type": "scatter"
           }
          ],
          "scatter3d": [
           {
            "line": {
             "colorbar": {
              "outlinewidth": 0,
              "ticks": ""
             }
            },
            "marker": {
             "colorbar": {
              "outlinewidth": 0,
              "ticks": ""
             }
            },
            "type": "scatter3d"
           }
          ],
          "scattercarpet": [
           {
            "marker": {
             "colorbar": {
              "outlinewidth": 0,
              "ticks": ""
             }
            },
            "type": "scattercarpet"
           }
          ],
          "scattergeo": [
           {
            "marker": {
             "colorbar": {
              "outlinewidth": 0,
              "ticks": ""
             }
            },
            "type": "scattergeo"
           }
          ],
          "scattergl": [
           {
            "marker": {
             "colorbar": {
              "outlinewidth": 0,
              "ticks": ""
             }
            },
            "type": "scattergl"
           }
          ],
          "scattermapbox": [
           {
            "marker": {
             "colorbar": {
              "outlinewidth": 0,
              "ticks": ""
             }
            },
            "type": "scattermapbox"
           }
          ],
          "scatterpolar": [
           {
            "marker": {
             "colorbar": {
              "outlinewidth": 0,
              "ticks": ""
             }
            },
            "type": "scatterpolar"
           }
          ],
          "scatterpolargl": [
           {
            "marker": {
             "colorbar": {
              "outlinewidth": 0,
              "ticks": ""
             }
            },
            "type": "scatterpolargl"
           }
          ],
          "scatterternary": [
           {
            "marker": {
             "colorbar": {
              "outlinewidth": 0,
              "ticks": ""
             }
            },
            "type": "scatterternary"
           }
          ],
          "surface": [
           {
            "colorbar": {
             "outlinewidth": 0,
             "ticks": ""
            },
            "colorscale": [
             [
              0,
              "#0d0887"
             ],
             [
              0.1111111111111111,
              "#46039f"
             ],
             [
              0.2222222222222222,
              "#7201a8"
             ],
             [
              0.3333333333333333,
              "#9c179e"
             ],
             [
              0.4444444444444444,
              "#bd3786"
             ],
             [
              0.5555555555555556,
              "#d8576b"
             ],
             [
              0.6666666666666666,
              "#ed7953"
             ],
             [
              0.7777777777777778,
              "#fb9f3a"
             ],
             [
              0.8888888888888888,
              "#fdca26"
             ],
             [
              1,
              "#f0f921"
             ]
            ],
            "type": "surface"
           }
          ],
          "table": [
           {
            "cells": {
             "fill": {
              "color": "#EBF0F8"
             },
             "line": {
              "color": "white"
             }
            },
            "header": {
             "fill": {
              "color": "#C8D4E3"
             },
             "line": {
              "color": "white"
             }
            },
            "type": "table"
           }
          ]
         },
         "layout": {
          "annotationdefaults": {
           "arrowcolor": "#2a3f5f",
           "arrowhead": 0,
           "arrowwidth": 1
          },
          "autotypenumbers": "strict",
          "coloraxis": {
           "colorbar": {
            "outlinewidth": 0,
            "ticks": ""
           }
          },
          "colorscale": {
           "diverging": [
            [
             0,
             "#8e0152"
            ],
            [
             0.1,
             "#c51b7d"
            ],
            [
             0.2,
             "#de77ae"
            ],
            [
             0.3,
             "#f1b6da"
            ],
            [
             0.4,
             "#fde0ef"
            ],
            [
             0.5,
             "#f7f7f7"
            ],
            [
             0.6,
             "#e6f5d0"
            ],
            [
             0.7,
             "#b8e186"
            ],
            [
             0.8,
             "#7fbc41"
            ],
            [
             0.9,
             "#4d9221"
            ],
            [
             1,
             "#276419"
            ]
           ],
           "sequential": [
            [
             0,
             "#0d0887"
            ],
            [
             0.1111111111111111,
             "#46039f"
            ],
            [
             0.2222222222222222,
             "#7201a8"
            ],
            [
             0.3333333333333333,
             "#9c179e"
            ],
            [
             0.4444444444444444,
             "#bd3786"
            ],
            [
             0.5555555555555556,
             "#d8576b"
            ],
            [
             0.6666666666666666,
             "#ed7953"
            ],
            [
             0.7777777777777778,
             "#fb9f3a"
            ],
            [
             0.8888888888888888,
             "#fdca26"
            ],
            [
             1,
             "#f0f921"
            ]
           ],
           "sequentialminus": [
            [
             0,
             "#0d0887"
            ],
            [
             0.1111111111111111,
             "#46039f"
            ],
            [
             0.2222222222222222,
             "#7201a8"
            ],
            [
             0.3333333333333333,
             "#9c179e"
            ],
            [
             0.4444444444444444,
             "#bd3786"
            ],
            [
             0.5555555555555556,
             "#d8576b"
            ],
            [
             0.6666666666666666,
             "#ed7953"
            ],
            [
             0.7777777777777778,
             "#fb9f3a"
            ],
            [
             0.8888888888888888,
             "#fdca26"
            ],
            [
             1,
             "#f0f921"
            ]
           ]
          },
          "colorway": [
           "#636efa",
           "#EF553B",
           "#00cc96",
           "#ab63fa",
           "#FFA15A",
           "#19d3f3",
           "#FF6692",
           "#B6E880",
           "#FF97FF",
           "#FECB52"
          ],
          "font": {
           "color": "#2a3f5f"
          },
          "geo": {
           "bgcolor": "white",
           "lakecolor": "white",
           "landcolor": "#E5ECF6",
           "showlakes": true,
           "showland": true,
           "subunitcolor": "white"
          },
          "hoverlabel": {
           "align": "left"
          },
          "hovermode": "closest",
          "mapbox": {
           "style": "light"
          },
          "paper_bgcolor": "white",
          "plot_bgcolor": "#E5ECF6",
          "polar": {
           "angularaxis": {
            "gridcolor": "white",
            "linecolor": "white",
            "ticks": ""
           },
           "bgcolor": "#E5ECF6",
           "radialaxis": {
            "gridcolor": "white",
            "linecolor": "white",
            "ticks": ""
           }
          },
          "scene": {
           "xaxis": {
            "backgroundcolor": "#E5ECF6",
            "gridcolor": "white",
            "gridwidth": 2,
            "linecolor": "white",
            "showbackground": true,
            "ticks": "",
            "zerolinecolor": "white"
           },
           "yaxis": {
            "backgroundcolor": "#E5ECF6",
            "gridcolor": "white",
            "gridwidth": 2,
            "linecolor": "white",
            "showbackground": true,
            "ticks": "",
            "zerolinecolor": "white"
           },
           "zaxis": {
            "backgroundcolor": "#E5ECF6",
            "gridcolor": "white",
            "gridwidth": 2,
            "linecolor": "white",
            "showbackground": true,
            "ticks": "",
            "zerolinecolor": "white"
           }
          },
          "shapedefaults": {
           "line": {
            "color": "#2a3f5f"
           }
          },
          "ternary": {
           "aaxis": {
            "gridcolor": "white",
            "linecolor": "white",
            "ticks": ""
           },
           "baxis": {
            "gridcolor": "white",
            "linecolor": "white",
            "ticks": ""
           },
           "bgcolor": "#E5ECF6",
           "caxis": {
            "gridcolor": "white",
            "linecolor": "white",
            "ticks": ""
           }
          },
          "title": {
           "x": 0.05
          },
          "xaxis": {
           "automargin": true,
           "gridcolor": "white",
           "linecolor": "white",
           "ticks": "",
           "title": {
            "standoff": 15
           },
           "zerolinecolor": "white",
           "zerolinewidth": 2
          },
          "yaxis": {
           "automargin": true,
           "gridcolor": "white",
           "linecolor": "white",
           "ticks": "",
           "title": {
            "standoff": 15
           },
           "zerolinecolor": "white",
           "zerolinewidth": 2
          }
         }
        },
        "title": {
         "text": "Treasury Yield Curve (2025-01-01 to 2025-02-05)"
        },
        "xaxis": {
         "anchor": "y",
         "autorange": true,
         "domain": [
          0,
          1
         ],
         "range": [
          -0.42916321458160733,
          7.4291632145816076
         ],
         "title": {
          "text": "Maturity"
         },
         "type": "category"
        },
        "yaxis": {
         "anchor": "x",
         "autorange": true,
         "domain": [
          0,
          1
         ],
         "range": [
          4.059854368932038,
          5.050145631067962
         ],
         "title": {
          "text": "Yield (%)"
         },
         "type": "linear"
        }
       }
      },
      "image/png": "[encoded data removed]",
      "text/html": [
       "<div>                            <div id=\"7a0172e5-68be-4cb4-9d20-50a092acf80e\" class=\"plotly-graph-div\" style=\"height:525px; width:100%;\"></div>            <script type=\"text/javascript\">                require([\"plotly\"], function(Plotly) {                    window.PLOTLYENV=window.PLOTLYENV || {};                                    if (document.getElementById(\"7a0172e5-68be-4cb4-9d20-50a092acf80e\")) {                    Plotly.newPlot(                        \"7a0172e5-68be-4cb4-9d20-50a092acf80e\",                        [{\"hovertemplate\":\"date=2025-01-02\\u003cbr\\u003eMaturity=%{x}\\u003cbr\\u003eYield (%)=%{y}\\u003cextra\\u003e\\u003c\\u002fextra\\u003e\",\"legendgroup\":\"2025-01-02\",\"line\":{\"color\":\"#636efa\",\"dash\":\"solid\"},\"marker\":{\"symbol\":\"circle\"},\"mode\":\"markers+lines\",\"name\":\"2025-01-02\",\"orientation\":\"v\",\"showlegend\":true,\"x\":[\"T1M\",\"T3M\",\"T6M\",\"T1Y\",\"T2Y\",\"T5Y\",\"T10Y\",\"T30Y\"],\"xaxis\":\"x\",\"y\":[4.45,4.36,4.25,4.17,4.25,4.38,4.57,4.79],\"yaxis\":\"y\",\"type\":\"scatter\"},{\"hovertemplate\":\"date=2025-01-03\\u003cbr\\u003eMaturity=%{x}\\u003cbr\\u003eYield (%)=%{y}\\u003cextra\\u003e\\u003c\\u002fextra\\u003e\",\"legendgroup\":\"2025-01-03\",\"line\":{\"color\":\"#EF553B\",\"dash\":\"solid\"},\"marker\":{\"symbol\":\"circle\"},\"mode\":\"markers+lines\",\"name\":\"2025-01-03\",\"orientation\":\"v\",\"showlegend\":true,\"x\":[\"T1M\",\"T3M\",\"T6M\",\"T1Y\",\"T2Y\",\"T5Y\",\"T10Y\",\"T30Y\"],\"xaxis\":\"x\",\"y\":[4.44,4.34,4.25,4.18,4.28,4.41,4.6,4.82],\"yaxis\":\"y\",\"type\":\"scatter\"},{\"hovertemplate\":\"date=2025-01-06\\u003cbr\\u003eMaturity=%{x}\\u003cbr\\u003eYield (%)=%{y}\\u003cextra\\u003e\\u003c\\u002fextra\\u003e\",\"legendgroup\":\"2025-01-06\",\"line\":{\"color\":\"#00cc96\",\"dash\":\"solid\"},\"marker\":{\"symbol\":\"circle\"},\"mode\":\"markers+lines\",\"name\":\"2025-01-06\",\"orientation\":\"v\",\"showlegend\":true,\"x\":[\"T1M\",\"T3M\",\"T6M\",\"T1Y\",\"T2Y\",\"T5Y\",\"T10Y\",\"T30Y\"],\"xaxis\":\"x\",\"y\":[4.43,4.35,4.24,4.17,4.28,4.42,4.62,4.85],\"yaxis\":\"y\",\"type\":\"scatter\"},{\"hovertemplate\":\"date=2025-01-07\\u003cbr\\u003eMaturity=%{x}\\u003cbr\\u003eYield (%)=%{y}\\u003cextra\\u003e\\u003c\\u002fextra\\u003e\",\"legendgroup\":\"2025-01-07\",\"line\":{\"color\":\"#ab63fa\",\"dash\":\"solid\"},\"marker\":{\"symbol\":\"circle\"},\"mode\":\"markers+lines\",\"name\":\"2025-01-07\",\"orientation\":\"v\",\"showlegend\":true,\"x\":[\"T1M\",\"T3M\",\"T6M\",\"T1Y\",\"T2Y\",\"T5Y\",\"T10Y\",\"T30Y\"],\"xaxis\":\"x\",\"y\":[4.42,4.35,4.24,4.19,4.3,4.46,4.67,4.91],\"yaxis\":\"y\",\"type\":\"scatter\"},{\"hovertemplate\":\"date=2025-01-08\\u003cbr\\u003eMaturity=%{x}\\u003cbr\\u003eYield (%)=%{y}\\u003cextra\\u003e\\u003c\\u002fextra\\u003e\",\"legendgroup\":\"2025-01-08\",\"line\":{\"color\":\"#FFA15A\",\"dash\":\"solid\"},\"marker\":{\"symbol\":\"circle\"},\"mode\":\"markers+lines\",\"name\":\"2025-01-08\",\"orientation\":\"v\",\"showlegend\":true,\"x\":[\"T1M\",\"T3M\",\"T6M\",\"T1Y\",\"T2Y\",\"T5Y\",\"T10Y\",\"T30Y\"],\"xaxis\":\"x\",\"y\":[4.41,4.35,4.25,4.19,4.28,4.45,4.67,4.91],\"yaxis\":\"y\",\"type\":\"scatter\"},{\"hovertemplate\":\"date=2025-01-09\\u003cbr\\u003eMaturity=%{x}\\u003cbr\\u003eYield (%)=%{y}\\u003cextra\\u003e\\u003c\\u002fextra\\u003e\",\"legendgroup\":\"2025-01-09\",\"line\":{\"color\":\"#19d3f3\",\"dash\":\"solid\"},\"marker\":{\"symbol\":\"circle\"},\"mode\":\"markers+lines\",\"name\":\"2025-01-09\",\"orientation\":\"v\",\"showlegend\":true,\"x\":[\"T1M\",\"T3M\",\"T6M\",\"T1Y\",\"T2Y\",\"T5Y\",\"T10Y\",\"T30Y\"],\"xaxis\":\"x\",\"y\":[4.44,4.35,4.24,4.16,4.27,4.46,4.68,4.92],\"yaxis\":\"y\",\"type\":\"scatter\"},{\"hovertemplate\":\"date=2025-01-10\\u003cbr\\u003eMaturity=%{x}\\u003cbr\\u003eYield (%)=%{y}\\u003cextra\\u003e\\u003c\\u002fextra\\u003e\",\"legendgroup\":\"2025-01-10\",\"line\":{\"color\":\"#FF6692\",\"dash\":\"solid\"},\"marker\":{\"symbol\":\"circle\"},\"mode\":\"markers+lines\",\"name\":\"2025-01-10\",\"orientation\":\"v\",\"showlegend\":true,\"x\":[\"T1M\",\"T3M\",\"T6M\",\"T1Y\",\"T2Y\",\"T5Y\",\"T10Y\",\"T30Y\"],\"xaxis\":\"x\",\"y\":[4.42,4.36,4.27,4.25,4.4,4.59,4.77,4.96],\"yaxis\":\"y\",\"type\":\"scatter\"},{\"hovertemplate\":\"date=2025-01-13\\u003cbr\\u003eMaturity=%{x}\\u003cbr\\u003eYield (%)=%{y}\\u003cextra\\u003e\\u003c\\u002fextra\\u003e\",\"legendgroup\":\"2025-01-13\",\"line\":{\"color\":\"#B6E880\",\"dash\":\"solid\"},\"marker\":{\"symbol\":\"circle\"},\"mode\":\"markers+lines\",\"name\":\"2025-01-13\",\"orientation\":\"v\",\"showlegend\":true,\"x\":[\"T1M\",\"T3M\",\"T6M\",\"T1Y\",\"T2Y\",\"T5Y\",\"T10Y\",\"T30Y\"],\"xaxis\":\"x\",\"y\":[4.42,4.37,4.3,4.24,4.4,4.61,4.79,4.97],\"yaxis\":\"y\",\"type\":\"scatter\"},{\"hovertemplate\":\"date=2025-01-14\\u003cbr\\u003eMaturity=%{x}\\u003cbr\\u003eYield (%)=%{y}\\u003cextra\\u003e\\u003c\\u002fextra\\u003e\",\"legendgroup\":\"2025-01-14\",\"line\":{\"color\":\"#FF97FF\",\"dash\":\"solid\"},\"marker\":{\"symbol\":\"circle\"},\"mode\":\"markers+lines\",\"name\":\"2025-01-14\",\"orientation\":\"v\",\"showlegend\":true,\"x\":[\"T1M\",\"T3M\",\"T6M\",\"T1Y\",\"T2Y\",\"T5Y\",\"T10Y\",\"T30Y\"],\"xaxis\":\"x\",\"y\":[4.42,4.36,4.29,4.22,4.37,4.59,4.78,4.98],\"yaxis\":\"y\",\"type\":\"scatter\"},{\"hovertemplate\":\"date=2025-01-15\\u003cbr\\u003eMaturity=%{x}\\u003cbr\\u003eYield (%)=%{y}\\u003cextra\\u003e\\u003c\\u002fextra\\u003e\",\"legendgroup\":\"2025-01-15\",\"line\":{\"color\":\"#FECB52\",\"dash\":\"solid\"},\"marker\":{\"symbol\":\"circle\"},\"mode\":\"markers+lines\",\"name\":\"2025-01-15\",\"orientation\":\"v\",\"showlegend\":true,\"x\":[\"T1M\",\"T3M\",\"T6M\",\"T1Y\",\"T2Y\",\"T5Y\",\"T10Y\",\"T30Y\"],\"xaxis\":\"x\",\"y\":[4.4,4.35,4.26,4.19,4.27,4.45,4.66,4.88],\"yaxis\":\"y\",\"type\":\"scatter\"},{\"hovertemplate\":\"date=2025-01-16\\u003cbr\\u003eMaturity=%{x}\\u003cbr\\u003eYield (%)=%{y}\\u003cextra\\u003e\\u003c\\u002fextra\\u003e\",\"legendgroup\":\"2025-01-16\",\"line\":{\"color\":\"#636efa\",\"dash\":\"solid\"},\"marker\":{\"symbol\":\"circle\"},\"mode\":\"markers+lines\",\"name\":\"2025-01-16\",\"orientation\":\"v\",\"showlegend\":true,\"x\":[\"T1M\",\"T3M\",\"T6M\",\"T1Y\",\"T2Y\",\"T5Y\",\"T10Y\",\"T30Y\"],\"xaxis\":\"x\",\"y\":[4.43,4.34,4.26,4.18,4.23,4.39,4.61,4.84],\"yaxis\":\"y\",\"type\":\"scatter\"},{\"hovertemplate\":\"date=2025-01-17\\u003cbr\\u003eMaturity=%{x}\\u003cbr\\u003eYield (%)=%{y}\\u003cextra\\u003e\\u003c\\u002fextra\\u003e\",\"legendgroup\":\"2025-01-17\",\"line\":{\"color\":\"#EF553B\",\"dash\":\"solid\"},\"marker\":{\"symbol\":\"circle\"},\"mode\":\"markers+lines\",\"name\":\"2025-01-17\",\"orientation\":\"v\",\"showlegend\":true,\"x\":[\"T1M\",\"T3M\",\"T6M\",\"T1Y\",\"T2Y\",\"T5Y\",\"T10Y\",\"T30Y\"],\"xaxis\":\"x\",\"y\":[4.43,4.34,4.28,4.21,4.27,4.42,4.61,4.84],\"yaxis\":\"y\",\"type\":\"scatter\"},{\"hovertemplate\":\"date=2025-01-21\\u003cbr\\u003eMaturity=%{x}\\u003cbr\\u003eYield (%)=%{y}\\u003cextra\\u003e\\u003c\\u002fextra\\u003e\",\"legendgroup\":\"2025-01-21\",\"line\":{\"color\":\"#00cc96\",\"dash\":\"solid\"},\"marker\":{\"symbol\":\"circle\"},\"mode\":\"markers+lines\",\"name\":\"2025-01-21\",\"orientation\":\"v\",\"showlegend\":true,\"x\":[\"T1M\",\"T3M\",\"T6M\",\"T1Y\",\"T2Y\",\"T5Y\",\"T10Y\",\"T30Y\"],\"xaxis\":\"x\",\"y\":[4.42,4.36,4.28,4.21,4.29,4.4,4.57,4.8],\"yaxis\":\"y\",\"type\":\"scatter\"},{\"hovertemplate\":\"date=2025-01-22\\u003cbr\\u003eMaturity=%{x}\\u003cbr\\u003eYield (%)=%{y}\\u003cextra\\u003e\\u003c\\u002fextra\\u003e\",\"legendgroup\":\"2025-01-22\",\"line\":{\"color\":\"#ab63fa\",\"dash\":\"solid\"},\"marker\":{\"symbol\":\"circle\"},\"mode\":\"markers+lines\",\"name\":\"2025-01-22\",\"orientation\":\"v\",\"showlegend\":true,\"x\":[\"T1M\",\"T3M\",\"T6M\",\"T1Y\",\"T2Y\",\"T5Y\",\"T10Y\",\"T30Y\"],\"xaxis\":\"x\",\"y\":[4.42,4.36,4.28,4.2,4.29,4.43,4.6,4.82],\"yaxis\":\"y\",\"type\":\"scatter\"},{\"hovertemplate\":\"date=2025-01-23\\u003cbr\\u003eMaturity=%{x}\\u003cbr\\u003eYield (%)=%{y}\\u003cextra\\u003e\\u003c\\u002fextra\\u003e\",\"legendgroup\":\"2025-01-23\",\"line\":{\"color\":\"#FFA15A\",\"dash\":\"solid\"},\"marker\":{\"symbol\":\"circle\"},\"mode\":\"markers+lines\",\"name\":\"2025-01-23\",\"orientation\":\"v\",\"showlegend\":true,\"x\":[\"T1M\",\"T3M\",\"T6M\",\"T1Y\",\"T2Y\",\"T5Y\",\"T10Y\",\"T30Y\"],\"xaxis\":\"x\",\"y\":[4.45,4.36,4.27,4.18,4.29,4.45,4.65,4.87],\"yaxis\":\"y\",\"type\":\"scatter\"},{\"hovertemplate\":\"date=2025-01-24\\u003cbr\\u003eMaturity=%{x}\\u003cbr\\u003eYield (%)=%{y}\\u003cextra\\u003e\\u003c\\u002fextra\\u003e\",\"legendgroup\":\"2025-01-24\",\"line\":{\"color\":\"#19d3f3\",\"dash\":\"solid\"},\"marker\":{\"symbol\":\"circle\"},\"mode\":\"markers+lines\",\"name\":\"2025-01-24\",\"orientation\":\"v\",\"showlegend\":true,\"x\":[\"T1M\",\"T3M\",\"T6M\",\"T1Y\",\"T2Y\",\"T5Y\",\"T10Y\",\"T30Y\"],\"xaxis\":\"x\",\"y\":[4.45,4.35,4.25,4.17,4.27,4.43,4.63,4.85],\"yaxis\":\"y\",\"type\":\"scatter\"},{\"hovertemplate\":\"date=2025-01-27\\u003cbr\\u003eMaturity=%{x}\\u003cbr\\u003eYield (%)=%{y}\\u003cextra\\u003e\\u003c\\u002fextra\\u003e\",\"legendgroup\":\"2025-01-27\",\"line\":{\"color\":\"#FF6692\",\"dash\":\"solid\"},\"marker\":{\"symbol\":\"circle\"},\"mode\":\"markers+lines\",\"name\":\"2025-01-27\",\"orientation\":\"v\",\"showlegend\":true,\"x\":[\"T1M\",\"T3M\",\"T6M\",\"T1Y\",\"T2Y\",\"T5Y\",\"T10Y\",\"T30Y\"],\"xaxis\":\"x\",\"y\":[4.44,4.32,4.25,4.13,4.17,4.32,4.53,4.76],\"yaxis\":\"y\",\"type\":\"scatter\"},{\"hovertemplate\":\"date=2025-01-28\\u003cbr\\u003eMaturity=%{x}\\u003cbr\\u003eYield (%)=%{y}\\u003cextra\\u003e\\u003c\\u002fextra\\u003e\",\"legendgroup\":\"2025-01-28\",\"line\":{\"color\":\"#B6E880\",\"dash\":\"solid\"},\"marker\":{\"symbol\":\"circle\"},\"mode\":\"markers+lines\",\"name\":\"2025-01-28\",\"orientation\":\"v\",\"showlegend\":true,\"x\":[\"T1M\",\"T3M\",\"T6M\",\"T1Y\",\"T2Y\",\"T5Y\",\"T10Y\",\"T30Y\"],\"xaxis\":\"x\",\"y\":[4.44,4.31,4.26,4.14,4.19,4.33,4.55,4.78],\"yaxis\":\"y\",\"type\":\"scatter\"},{\"hovertemplate\":\"date=2025-01-29\\u003cbr\\u003eMaturity=%{x}\\u003cbr\\u003eYield (%)=%{y}\\u003cextra\\u003e\\u003c\\u002fextra\\u003e\",\"legendgroup\":\"2025-01-29\",\"line\":{\"color\":\"#FF97FF\",\"dash\":\"solid\"},\"marker\":{\"symbol\":\"circle\"},\"mode\":\"markers+lines\",\"name\":\"2025-01-29\",\"orientation\":\"v\",\"showlegend\":true,\"x\":[\"T1M\",\"T3M\",\"T6M\",\"T1Y\",\"T2Y\",\"T5Y\",\"T10Y\",\"T30Y\"],\"xaxis\":\"x\",\"y\":[4.43,4.31,4.27,4.17,4.21,4.35,4.55,4.79],\"yaxis\":\"y\",\"type\":\"scatter\"},{\"hovertemplate\":\"date=2025-01-30\\u003cbr\\u003eMaturity=%{x}\\u003cbr\\u003eYield (%)=%{y}\\u003cextra\\u003e\\u003c\\u002fextra\\u003e\",\"legendgroup\":\"2025-01-30\",\"line\":{\"color\":\"#FECB52\",\"dash\":\"solid\"},\"marker\":{\"symbol\":\"circle\"},\"mode\":\"markers+lines\",\"name\":\"2025-01-30\",\"orientation\":\"v\",\"showlegend\":true,\"x\":[\"T1M\",\"T3M\",\"T6M\",\"T1Y\",\"T2Y\",\"T5Y\",\"T10Y\",\"T30Y\"],\"xaxis\":\"x\",\"y\":[4.37,4.3,4.27,4.16,4.18,4.31,4.52,4.76],\"yaxis\":\"y\",\"type\":\"scatter\"},{\"hovertemplate\":\"date=2025-01-31\\u003cbr\\u003eMaturity=%{x}\\u003cbr\\u003eYield (%)=%{y}\\u003cextra\\u003e\\u003c\\u002fextra\\u003e\",\"legendgroup\":\"2025-01-31\",\"line\":{\"color\":\"#636efa\",\"dash\":\"solid\"},\"marker\":{\"symbol\":\"circle\"},\"mode\":\"markers+lines\",\"name\":\"2025-01-31\",\"orientation\":\"v\",\"showlegend\":true,\"x\":[\"T1M\",\"T3M\",\"T6M\",\"T1Y\",\"T2Y\",\"T5Y\",\"T10Y\",\"T30Y\"],\"xaxis\":\"x\",\"y\":[4.37,4.31,4.28,4.17,4.22,4.36,4.58,4.83],\"yaxis\":\"y\",\"type\":\"scatter\"},{\"hovertemplate\":\"date=2025-02-03\\u003cbr\\u003eMaturity=%{x}\\u003cbr\\u003eYield (%)=%{y}\\u003cextra\\u003e\\u003c\\u002fextra\\u003e\",\"legendgroup\":\"2025-02-03\",\"line\":{\"color\":\"#EF553B\",\"dash\":\"solid\"},\"marker\":{\"symbol\":\"circle\"},\"mode\":\"markers+lines\",\"name\":\"2025-02-03\",\"orientation\":\"v\",\"showlegend\":true,\"x\":[\"T1M\",\"T3M\",\"T6M\",\"T1Y\",\"T2Y\",\"T5Y\",\"T10Y\",\"T30Y\"],\"xaxis\":\"x\",\"y\":[4.37,4.34,4.28,4.2,4.26,4.35,4.54,4.77],\"yaxis\":\"y\",\"type\":\"scatter\"},{\"hovertemplate\":\"date=2025-02-04\\u003cbr\\u003eMaturity=%{x}\\u003cbr\\u003eYield (%)=%{y}\\u003cextra\\u003e\\u003c\\u002fextra\\u003e\",\"legendgroup\":\"2025-02-04\",\"line\":{\"color\":\"#00cc96\",\"dash\":\"solid\"},\"marker\":{\"symbol\":\"circle\"},\"mode\":\"markers+lines\",\"name\":\"2025-02-04\",\"orientation\":\"v\",\"showlegend\":true,\"x\":[\"T1M\",\"T3M\",\"T6M\",\"T1Y\",\"T2Y\",\"T5Y\",\"T10Y\",\"T30Y\"],\"xaxis\":\"x\",\"y\":[4.36,4.33,4.27,4.18,4.21,4.31,4.52,4.75],\"yaxis\":\"y\",\"type\":\"scatter\"},{\"hovertemplate\":\"date=2025-02-05\\u003cbr\\u003eMaturity=%{x}\\u003cbr\\u003eYield (%)=%{y}\\u003cextra\\u003e\\u003c\\u002fextra\\u003e\",\"legendgroup\":\"2025-02-05\",\"line\":{\"color\":\"#ab63fa\",\"dash\":\"solid\"},\"marker\":{\"symbol\":\"circle\"},\"mode\":\"markers+lines\",\"name\":\"2025-02-05\",\"orientation\":\"v\",\"showlegend\":true,\"x\":[\"T1M\",\"T3M\",\"T6M\",\"T1Y\",\"T2Y\",\"T5Y\",\"T10Y\",\"T30Y\"],\"xaxis\":\"x\",\"y\":[4.35,4.33,4.27,4.17,4.17,4.24,4.43,4.64],\"yaxis\":\"y\",\"type\":\"scatter\"}],                        {\"template\":{\"data\":{\"histogram2dcontour\":[{\"type\":\"histogram2dcontour\",\"colorbar\":{\"outlinewidth\":0,\"ticks\":\"\"},\"colorscale\":[[0.0,\"#0d0887\"],[0.1111111111111111,\"#46039f\"],[0.2222222222222222,\"#7201a8\"],[0.3333333333333333,\"#9c179e\"],[0.4444444444444444,\"#bd3786\"],[0.5555555555555556,\"#d8576b\"],[0.6666666666666666,\"#ed7953\"],[0.7777777777777778,\"#fb9f3a\"],[0.8888888888888888,\"#fdca26\"],[1.0,\"#f0f921\"]]}],\"choropleth\":[{\"type\":\"choropleth\",\"colorbar\":{\"outlinewidth\":0,\"ticks\":\"\"}}],\"histogram2d\":[{\"type\":\"histogram2d\",\"colorbar\":{\"outlinewidth\":0,\"ticks\":\"\"},\"colorscale\":[[0.0,\"#0d0887\"],[0.1111111111111111,\"#46039f\"],[0.2222222222222222,\"#7201a8\"],[0.3333333333333333,\"#9c179e\"],[0.4444444444444444,\"#bd3786\"],[0.5555555555555556,\"#d8576b\"],[0.6666666666666666,\"#ed7953\"],[0.7777777777777778,\"#fb9f3a\"],[0.8888888888888888,\"#fdca26\"],[1.0,\"#f0f921\"]]}],\"heatmap\":[{\"type\":\"heatmap\",\"colorbar\":{\"outlinewidth\":0,\"ticks\":\"\"},\"colorscale\":[[0.0,\"#0d0887\"],[0.1111111111111111,\"#46039f\"],[0.2222222222222222,\"#7201a8\"],[0.3333333333333333,\"#9c179e\"],[0.4444444444444444,\"#bd3786\"],[0.5555555555555556,\"#d8576b\"],[0.6666666666666666,\"#ed7953\"],[0.7777777777777778,\"#fb9f3a\"],[0.8888888888888888,\"#fdca26\"],[1.0,\"#f0f921\"]]}],\"heatmapgl\":[{\"type\":\"heatmapgl\",\"colorbar\":{\"outlinewidth\":0,\"ticks\":\"\"},\"colorscale\":[[0.0,\"#0d0887\"],[0.1111111111111111,\"#46039f\"],[0.2222222222222222,\"#7201a8\"],[0.3333333333333333,\"#9c179e\"],[0.4444444444444444,\"#bd3786\"],[0.5555555555555556,\"#d8576b\"],[0.6666666666666666,\"#ed7953\"],[0.7777777777777778,\"#fb9f3a\"],[0.8888888888888888,\"#fdca26\"],[1.0,\"#f0f921\"]]}],\"contourcarpet\":[{\"type\":\"contourcarpet\",\"colorbar\":{\"outlinewidth\":0,\"ticks\":\"\"}}],\"contour\":[{\"type\":\"contour\",\"colorbar\":{\"outlinewidth\":0,\"ticks\":\"\"},\"colorscale\":[[0.0,\"#0d0887\"],[0.1111111111111111,\"#46039f\"],[0.2222222222222222,\"#7201a8\"],[0.3333333333333333,\"#9c179e\"],[0.4444444444444444,\"#bd3786\"],[0.5555555555555556,\"#d8576b\"],[0.6666666666666666,\"#ed7953\"],[0.7777777777777778,\"#fb9f3a\"],[0.8888888888888888,\"#fdca26\"],[1.0,\"#f0f921\"]]}],\"surface\":[{\"type\":\"surface\",\"colorbar\":{\"outlinewidth\":0,\"ticks\":\"\"},\"colorscale\":[[0.0,\"#0d0887\"],[0.1111111111111111,\"#46039f\"],[0.2222222222222222,\"#7201a8\"],[0.3333333333333333,\"#9c179e\"],[0.4444444444444444,\"#bd3786\"],[0.5555555555555556,\"#d8576b\"],[0.6666666666666666,\"#ed7953\"],[0.7777777777777778,\"#fb9f3a\"],[0.8888888888888888,\"#fdca26\"],[1.0,\"#f0f921\"]]}],\"mesh3d\":[{\"type\":\"mesh3d\",\"colorbar\":{\"outlinewidth\":0,\"ticks\":\"\"}}],\"scatter\":[{\"fillpattern\":{\"fillmode\":\"overlay\",\"size\":10,\"solidity\":0.2},\"type\":\"scatter\"}],\"parcoords\":[{\"type\":\"parcoords\",\"line\":{\"colorbar\":{\"outlinewidth\":0,\"ticks\":\"\"}}}],\"scatterpolargl\":[{\"type\":\"scatterpolargl\",\"marker\":{\"colorbar\":{\"outlinewidth\":0,\"ticks\":\"\"}}}],\"bar\":[{\"error_x\":{\"color\":\"#2a3f5f\"},\"error_y\":{\"color\":\"#2a3f5f\"},\"marker\":{\"line\":{\"color\":\"#E5ECF6\",\"width\":0.5},\"pattern\":{\"fillmode\":\"overlay\",\"size\":10,\"solidity\":0.2}},\"type\":\"bar\"}],\"scattergeo\":[{\"type\":\"scattergeo\",\"marker\":{\"colorbar\":{\"outlinewidth\":0,\"ticks\":\"\"}}}],\"scatterpolar\":[{\"type\":\"scatterpolar\",\"marker\":{\"colorbar\":{\"outlinewidth\":0,\"ticks\":\"\"}}}],\"histogram\":[{\"marker\":{\"pattern\":{\"fillmode\":\"overlay\",\"size\":10,\"solidity\":0.2}},\"type\":\"histogram\"}],\"scattergl\":[{\"type\":\"scattergl\",\"marker\":{\"colorbar\":{\"outlinewidth\":0,\"ticks\":\"\"}}}],\"scatter3d\":[{\"type\":\"scatter3d\",\"line\":{\"colorbar\":{\"outlinewidth\":0,\"ticks\":\"\"}},\"marker\":{\"colorbar\":{\"outlinewidth\":0,\"ticks\":\"\"}}}],\"scattermapbox\":[{\"type\":\"scattermapbox\",\"marker\":{\"colorbar\":{\"outlinewidth\":0,\"ticks\":\"\"}}}],\"scatterternary\":[{\"type\":\"scatterternary\",\"marker\":{\"colorbar\":{\"outlinewidth\":0,\"ticks\":\"\"}}}],\"scattercarpet\":[{\"type\":\"scattercarpet\",\"marker\":{\"colorbar\":{\"outlinewidth\":0,\"ticks\":\"\"}}}],\"carpet\":[{\"aaxis\":{\"endlinecolor\":\"#2a3f5f\",\"gridcolor\":\"white\",\"linecolor\":\"white\",\"minorgridcolor\":\"white\",\"startlinecolor\":\"#2a3f5f\"},\"baxis\":{\"endlinecolor\":\"#2a3f5f\",\"gridcolor\":\"white\",\"linecolor\":\"white\",\"minorgridcolor\":\"white\",\"startlinecolor\":\"#2a3f5f\"},\"type\":\"carpet\"}],\"table\":[{\"cells\":{\"fill\":{\"color\":\"#EBF0F8\"},\"line\":{\"color\":\"white\"}},\"header\":{\"fill\":{\"color\":\"#C8D4E3\"},\"line\":{\"color\":\"white\"}},\"type\":\"table\"}],\"barpolar\":[{\"marker\":{\"line\":{\"color\":\"#E5ECF6\",\"width\":0.5},\"pattern\":{\"fillmode\":\"overlay\",\"size\":10,\"solidity\":0.2}},\"type\":\"barpolar\"}],\"pie\":[{\"automargin\":true,\"type\":\"pie\"}]},\"layout\":{\"autotypenumbers\":\"strict\",\"colorway\":[\"#636efa\",\"#EF553B\",\"#00cc96\",\"#ab63fa\",\"#FFA15A\",\"#19d3f3\",\"#FF6692\",\"#B6E880\",\"#FF97FF\",\"#FECB52\"],\"font\":{\"color\":\"#2a3f5f\"},\"hovermode\":\"closest\",\"hoverlabel\":{\"align\":\"left\"},\"paper_bgcolor\":\"white\",\"plot_bgcolor\":\"#E5ECF6\",\"polar\":{\"bgcolor\":\"#E5ECF6\",\"angularaxis\":{\"gridcolor\":\"white\",\"linecolor\":\"white\",\"ticks\":\"\"},\"radialaxis\":{\"gridcolor\":\"white\",\"linecolor\":\"white\",\"ticks\":\"\"}},\"ternary\":{\"bgcolor\":\"#E5ECF6\",\"aaxis\":{\"gridcolor\":\"white\",\"linecolor\":\"white\",\"ticks\":\"\"},\"baxis\":{\"gridcolor\":\"white\",\"linecolor\":\"white\",\"ticks\":\"\"},\"caxis\":{\"gridcolor\":\"white\",\"linecolor\":\"white\",\"ticks\":\"\"}},\"coloraxis\":{\"colorbar\":{\"outlinewidth\":0,\"ticks\":\"\"}},\"colorscale\":{\"sequential\":[[0.0,\"#0d0887\"],[0.1111111111111111,\"#46039f\"],[0.2222222222222222,\"#7201a8\"],[0.3333333333333333,\"#9c179e\"],[0.4444444444444444,\"#bd3786\"],[0.5555555555555556,\"#d8576b\"],[0.6666666666666666,\"#ed7953\"],[0.7777777777777778,\"#fb9f3a\"],[0.8888888888888888,\"#fdca26\"],[1.0,\"#f0f921\"]],\"sequentialminus\":[[0.0,\"#0d0887\"],[0.1111111111111111,\"#46039f\"],[0.2222222222222222,\"#7201a8\"],[0.3333333333333333,\"#9c179e\"],[0.4444444444444444,\"#bd3786\"],[0.5555555555555556,\"#d8576b\"],[0.6666666666666666,\"#ed7953\"],[0.7777777777777778,\"#fb9f3a\"],[0.8888888888888888,\"#fdca26\"],[1.0,\"#f0f921\"]],\"diverging\":[[0,\"#8e0152\"],[0.1,\"#c51b7d\"],[0.2,\"#de77ae\"],[0.3,\"#f1b6da\"],[0.4,\"#fde0ef\"],[0.5,\"#f7f7f7\"],[0.6,\"#e6f5d0\"],[0.7,\"#b8e186\"],[0.8,\"#7fbc41\"],[0.9,\"#4d9221\"],[1,\"#276419\"]]},\"xaxis\":{\"gridcolor\":\"white\",\"linecolor\":\"white\",\"ticks\":\"\",\"title\":{\"standoff\":15},\"zerolinecolor\":\"white\",\"automargin\":true,\"zerolinewidth\":2},\"yaxis\":{\"gridcolor\":\"white\",\"linecolor\":\"white\",\"ticks\":\"\",\"title\":{\"standoff\":15},\"zerolinecolor\":\"white\",\"automargin\":true,\"zerolinewidth\":2},\"scene\":{\"xaxis\":{\"backgroundcolor\":\"#E5ECF6\",\"gridcolor\":\"white\",\"linecolor\":\"white\",\"showbackground\":true,\"ticks\":\"\",\"zerolinecolor\":\"white\",\"gridwidth\":2},\"yaxis\":{\"backgroundcolor\":\"#E5ECF6\",\"gridcolor\":\"white\",\"linecolor\":\"white\",\"showbackground\":true,\"ticks\":\"\",\"zerolinecolor\":\"white\",\"gridwidth\":2},\"zaxis\":{\"backgroundcolor\":\"#E5ECF6\",\"gridcolor\":\"white\",\"linecolor\":\"white\",\"showbackground\":true,\"ticks\":\"\",\"zerolinecolor\":\"white\",\"gridwidth\":2}},\"shapedefaults\":{\"line\":{\"color\":\"#2a3f5f\"}},\"annotationdefaults\":{\"arrowcolor\":\"#2a3f5f\",\"arrowhead\":0,\"arrowwidth\":1},\"geo\":{\"bgcolor\":\"white\",\"landcolor\":\"#E5ECF6\",\"subunitcolor\":\"white\",\"showland\":true,\"showlakes\":true,\"lakecolor\":\"white\"},\"title\":{\"x\":0.05},\"mapbox\":{\"style\":\"light\"}}},\"xaxis\":{\"anchor\":\"y\",\"domain\":[0.0,1.0],\"title\":{\"text\":\"Maturity\"}},\"yaxis\":{\"anchor\":\"x\",\"domain\":[0.0,1.0],\"title\":{\"text\":\"Yield (%)\"}},\"legend\":{\"title\":{\"text\":\"date\"},\"tracegroupgap\":0},\"title\":{\"text\":\"Treasury Yield Curve (2025-01-01 to 2025-02-05)\"}},                        {\"responsive\": true}                    ).then(function(){\n",
       "                            \n",
       "var gd = document.getElementById('7a0172e5-68be-4cb4-9d20-50a092acf80e');\n",
       "var x = new MutationObserver(function (mutations, observer) {{\n",
       "        var display = window.getComputedStyle(gd).display;\n",
       "        if (!display || display === 'none') {{\n",
       "            console.log([gd, 'removed!']);\n",
       "            Plotly.purge(gd);\n",
       "            observer.disconnect();\n",
       "        }}\n",
       "}});\n",
       "\n",
       "// Listen for the removal of the full notebook cells\n",
       "var notebookContainer = gd.closest('#notebook-container');\n",
       "if (notebookContainer) {{\n",
       "    x.observe(notebookContainer, {childList: true});\n",
       "}}\n",
       "\n",
       "// Listen for the clearing of the current output cell\n",
       "var outputEl = gd.closest('.output');\n",
       "if (outputEl) {{\n",
       "    x.observe(outputEl, {childList: true});\n",
       "}}\n",
       "\n",
       "                        })                };                });            </script>        </div>"
      ]
     },
     "metadata": {},
     "output_type": "display_data"
    }
   ],
   "source": [
    "fig = plot_yields(db_file = \"yields.db\",\n",
    "            start_date = \"2025-01-01\",\n",
    "            end_date = \"2025-02-05\")\n",
    "\n",
    "fig.show()"
   ]
  },
  {
   "cell_type": "code",
   "execution_count": null,
   "id": "b5f658ca-7d93-417e-965e-b047702045dc",
   "metadata": {},
   "outputs": [],
   "source": []
  }
 ],
 "metadata": {
  "kernelspec": {
   "display_name": "Python 3 (ipykernel)",
   "language": "python",
   "name": "python3"
  },
  "language_info": {
   "codemirror_mode": {
    "name": "ipython",
    "version": 3
   },
   "file_extension": ".py",
   "mimetype": "text/x-python",
   "name": "python",
   "nbconvert_exporter": "python",
   "pygments_lexer": "ipython3",
   "version": "3.11.6"
  }
 },
 "nbformat": 4,
 "nbformat_minor": 5
}
